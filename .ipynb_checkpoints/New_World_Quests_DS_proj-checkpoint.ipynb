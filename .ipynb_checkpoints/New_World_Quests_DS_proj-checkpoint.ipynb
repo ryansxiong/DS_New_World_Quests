{
 "cells": [
  {
   "cell_type": "code",
   "execution_count": 1,
   "id": "39c38ecf",
   "metadata": {},
   "outputs": [],
   "source": [
    "import pandas as pd\n",
    "import numpy as np\n",
    "import seaborn as sns\n",
    "import matplotlib.pyplot as plt\n",
    "import os"
   ]
  },
  {
   "cell_type": "code",
   "execution_count": null,
   "id": "20bee5f2",
   "metadata": {},
   "outputs": [],
   "source": [
    "# find best way to level up to better new player experience\n",
    "# see what is considered to be alot of xp for a completed quest\n",
    "# look at quest xp by lvl\n",
    "    ## lvl 1-25 \n",
    "    ## lvl 26-45\n",
    "    ## lvl 46-60\n",
    "# look at quest type per xp\n",
    "    ## Main Quest\n",
    "    ## Side Quest (Journey)\n",
    "    ## Faction Quest\n",
    "    ## Town Board"
   ]
  },
  {
   "cell_type": "code",
   "execution_count": 4,
   "id": "74fece87",
   "metadata": {
    "scrolled": false
   },
   "outputs": [],
   "source": [
    "main = pd.read_csv('new_world_main.csv', sep = \";\")\n",
    "side = pd.read_csv('new_world_side.csv', sep = \";\")\n",
    "town = pd.read_csv('new_world_town_board.csv', sep = \";\")\n",
    "faction = pd.read_csv('new_world_faction.csv', sep = \";\")\n",
    "\n",
    "#adding column to define the type of quest\n",
    "main['type'] = 'main'\n",
    "side['type'] = 'side'\n",
    "town['type'] = 'town'\n",
    "faction['type'] = 'faction'\n",
    "\n",
    "#combining all data into one file\n",
    "main.to_csv('main_quests.csv', index = False)\n",
    "side.to_csv('side_quests.csv', index = False)\n",
    "town.to_csv('town_quests.csv', index = False)\n",
    "faction.to_csv('faction_quests.csv', index = False)\n",
    "\n",
    "master_df = pd.DataFrame()\n",
    "\n",
    "for file in os.listdir(os.getcwd()):\n",
    "    if file.endswith('.csv'):\n",
    "        master_df = master_df.append(pd.read_csv(file))\n",
    "\n",
    "master_df.to_csv('new_world_allquests.csv', index = False)"
   ]
  },
  {
   "cell_type": "code",
   "execution_count": 2,
   "id": "a56c983f",
   "metadata": {},
   "outputs": [],
   "source": [
    "df = pd.read_csv('new_world_allquests.csv')"
   ]
  },
  {
   "cell_type": "code",
   "execution_count": 3,
   "id": "1df2aa10",
   "metadata": {},
   "outputs": [
    {
     "data": {
      "text/html": [
       "<div>\n",
       "<style scoped>\n",
       "    .dataframe tbody tr th:only-of-type {\n",
       "        vertical-align: middle;\n",
       "    }\n",
       "\n",
       "    .dataframe tbody tr th {\n",
       "        vertical-align: top;\n",
       "    }\n",
       "\n",
       "    .dataframe thead th {\n",
       "        text-align: right;\n",
       "    }\n",
       "</style>\n",
       "<table border=\"1\" class=\"dataframe\">\n",
       "  <thead>\n",
       "    <tr style=\"text-align: right;\">\n",
       "      <th></th>\n",
       "      <th>quest_name</th>\n",
       "      <th>level</th>\n",
       "      <th>xp</th>\n",
       "      <th>type</th>\n",
       "    </tr>\n",
       "  </thead>\n",
       "  <tbody>\n",
       "    <tr>\n",
       "      <th>0</th>\n",
       "      <td>Raid: Syleio Seko</td>\n",
       "      <td>60</td>\n",
       "      <td>1,600</td>\n",
       "      <td>faction</td>\n",
       "    </tr>\n",
       "    <tr>\n",
       "      <th>1</th>\n",
       "      <td>Raid: Hingatirn</td>\n",
       "      <td>60</td>\n",
       "      <td>1,600</td>\n",
       "      <td>faction</td>\n",
       "    </tr>\n",
       "    <tr>\n",
       "      <th>2</th>\n",
       "      <td>Raid: Forecastle Drift (Elite)</td>\n",
       "      <td>60</td>\n",
       "      <td>2,480</td>\n",
       "      <td>faction</td>\n",
       "    </tr>\n",
       "    <tr>\n",
       "      <th>3</th>\n",
       "      <td>Raid: Eternal Pool (Elite)</td>\n",
       "      <td>60</td>\n",
       "      <td>2,480</td>\n",
       "      <td>faction</td>\n",
       "    </tr>\n",
       "    <tr>\n",
       "      <th>4</th>\n",
       "      <td>Raid: Spire of Melpomene (Elite)</td>\n",
       "      <td>60</td>\n",
       "      <td>2,550</td>\n",
       "      <td>faction</td>\n",
       "    </tr>\n",
       "  </tbody>\n",
       "</table>\n",
       "</div>"
      ],
      "text/plain": [
       "                         quest_name  level    xp      type\n",
       "0                 Raid: Syleio Seko     60  1,600  faction\n",
       "1                   Raid: Hingatirn     60  1,600  faction\n",
       "2    Raid: Forecastle Drift (Elite)     60  2,480  faction\n",
       "3        Raid: Eternal Pool (Elite)     60  2,480  faction\n",
       "4  Raid: Spire of Melpomene (Elite)     60  2,550  faction"
      ]
     },
     "execution_count": 3,
     "metadata": {},
     "output_type": "execute_result"
    }
   ],
   "source": [
    "df.head()"
   ]
  },
  {
   "cell_type": "code",
   "execution_count": 4,
   "id": "e5996e56",
   "metadata": {},
   "outputs": [
    {
     "data": {
      "text/plain": [
       "(7293, 4)"
      ]
     },
     "execution_count": 4,
     "metadata": {},
     "output_type": "execute_result"
    }
   ],
   "source": [
    "df.shape"
   ]
  },
  {
   "cell_type": "code",
   "execution_count": 6,
   "id": "0c026bb2",
   "metadata": {},
   "outputs": [
    {
     "data": {
      "text/plain": [
       "Index(['quest_name', ' level', ' xp ', 'type'], dtype='object')"
      ]
     },
     "execution_count": 6,
     "metadata": {},
     "output_type": "execute_result"
    }
   ],
   "source": [
    "df.columns"
   ]
  },
  {
   "cell_type": "code",
   "execution_count": 7,
   "id": "b4c6787a",
   "metadata": {},
   "outputs": [],
   "source": [
    "#getting rid of the extra space in the column name (level)\n",
    "df.rename(columns = {' level' : 'level'}, inplace = True)"
   ]
  },
  {
   "cell_type": "code",
   "execution_count": 8,
   "id": "bc928ad2",
   "metadata": {},
   "outputs": [],
   "source": [
    "#getting rid of extra space for xp coulmn name\n",
    "df.rename(columns = {' xp ' : 'xp'}, inplace = True)"
   ]
  },
  {
   "cell_type": "code",
   "execution_count": 9,
   "id": "bb9ef512",
   "metadata": {},
   "outputs": [],
   "source": [
    "#changing unrecognized symbols with a value\n",
    "df.replace({'�' : '1'}, inplace = True)"
   ]
  },
  {
   "cell_type": "code",
   "execution_count": 10,
   "id": "ef744189",
   "metadata": {},
   "outputs": [
    {
     "data": {
      "text/plain": [
       "1          1157\n",
       "60          413\n",
       "58 - 60     177\n",
       "4 - 9       165\n",
       "8 - 13      137\n",
       "           ... \n",
       "43            2\n",
       "23            2\n",
       "7 - 13        2\n",
       "53            1\n",
       "48            1\n",
       "Name: level, Length: 182, dtype: int64"
      ]
     },
     "execution_count": 10,
     "metadata": {},
     "output_type": "execute_result"
    }
   ],
   "source": [
    "df['level'].value_counts()"
   ]
  },
  {
   "cell_type": "code",
   "execution_count": 11,
   "id": "de833ec5",
   "metadata": {},
   "outputs": [],
   "source": [
    "df.dropna(inplace = True)"
   ]
  },
  {
   "cell_type": "code",
   "execution_count": 12,
   "id": "935d69f8",
   "metadata": {},
   "outputs": [
    {
     "data": {
      "text/plain": [
       "(5765, 4)"
      ]
     },
     "execution_count": 12,
     "metadata": {},
     "output_type": "execute_result"
    }
   ],
   "source": [
    "df.shape"
   ]
  },
  {
   "cell_type": "code",
   "execution_count": 13,
   "id": "677bb117",
   "metadata": {},
   "outputs": [],
   "source": [
    "#getting rid of value ranges for the level column (keeping the min level)\n",
    "df['level'] = df['level'].apply(lambda x: x.split(\"-\")[0])"
   ]
  },
  {
   "cell_type": "code",
   "execution_count": 14,
   "id": "0d1e9e25",
   "metadata": {},
   "outputs": [],
   "source": [
    "#changing values in xp column into integars\n",
    "df.replace(',','', regex=True, inplace=True)\n",
    "df['xp'] = df['xp'].astype(int)\n",
    "df['level'] = df['level'].astype(int)"
   ]
  },
  {
   "cell_type": "code",
   "execution_count": 15,
   "id": "1f53b42f",
   "metadata": {},
   "outputs": [
    {
     "data": {
      "text/plain": [
       "quest_name    object\n",
       "level          int32\n",
       "xp             int32\n",
       "type          object\n",
       "dtype: object"
      ]
     },
     "execution_count": 15,
     "metadata": {},
     "output_type": "execute_result"
    }
   ],
   "source": [
    "df.dtypes"
   ]
  },
  {
   "cell_type": "code",
   "execution_count": 52,
   "id": "b0caa61f",
   "metadata": {},
   "outputs": [
    {
     "data": {
      "text/plain": [
       "1202.7"
      ]
     },
     "execution_count": 52,
     "metadata": {},
     "output_type": "execute_result"
    }
   ],
   "source": [
    "round(df['xp'].mean(), 1)"
   ]
  },
  {
   "cell_type": "code",
   "execution_count": 60,
   "id": "40bd3f67",
   "metadata": {},
   "outputs": [
    {
     "data": {
      "text/plain": [
       "quest_name    Zarabanda del Ojo Rojo\n",
       "level                             60\n",
       "xp                             35000\n",
       "type                            side\n",
       "dtype: object"
      ]
     },
     "execution_count": 60,
     "metadata": {},
     "output_type": "execute_result"
    }
   ],
   "source": [
    "df[df['type'] == 'side'].max()"
   ]
  },
  {
   "cell_type": "code",
   "execution_count": 54,
   "id": "bee00c00",
   "metadata": {},
   "outputs": [
    {
     "data": {
      "text/html": [
       "<div>\n",
       "<style scoped>\n",
       "    .dataframe tbody tr th:only-of-type {\n",
       "        vertical-align: middle;\n",
       "    }\n",
       "\n",
       "    .dataframe tbody tr th {\n",
       "        vertical-align: top;\n",
       "    }\n",
       "\n",
       "    .dataframe thead th {\n",
       "        text-align: right;\n",
       "    }\n",
       "</style>\n",
       "<table border=\"1\" class=\"dataframe\">\n",
       "  <thead>\n",
       "    <tr style=\"text-align: right;\">\n",
       "      <th>type</th>\n",
       "      <th>faction</th>\n",
       "      <th>main</th>\n",
       "      <th>side</th>\n",
       "      <th>town</th>\n",
       "    </tr>\n",
       "  </thead>\n",
       "  <tbody>\n",
       "    <tr>\n",
       "      <th>xp</th>\n",
       "      <td>920.6619</td>\n",
       "      <td>1849.321637</td>\n",
       "      <td>2854.702595</td>\n",
       "      <td>1579.035667</td>\n",
       "    </tr>\n",
       "  </tbody>\n",
       "</table>\n",
       "</div>"
      ],
      "text/plain": [
       "type   faction         main         side         town\n",
       "xp    920.6619  1849.321637  2854.702595  1579.035667"
      ]
     },
     "execution_count": 54,
     "metadata": {},
     "output_type": "execute_result"
    }
   ],
   "source": [
    "table = pd.pivot_table(df, values = 'xp', columns = 'type')\n",
    "table"
   ]
  },
  {
   "cell_type": "code",
   "execution_count": 55,
   "id": "fc8b468f",
   "metadata": {},
   "outputs": [
    {
     "data": {
      "text/plain": [
       "<AxesSubplot:title={'center':'Avg xp for all levels'}, xlabel='level', ylabel='avg xp'>"
      ]
     },
     "execution_count": 55,
     "metadata": {},
     "output_type": "execute_result"
    },
    {
     "data": {
      "image/png": "[encoded data removed]",
      "text/plain": [
       "<Figure size 1152x648 with 1 Axes>"
      ]
     },
     "metadata": {
      "needs_background": "light"
     },
     "output_type": "display_data"
    }
   ],
   "source": [
    "table.plot(kind = 'bar', figsize = (16, 9), xlabel = 'level', ylabel = 'avg xp', title = 'Avg xp for all levels')"
   ]
  },
  {
   "cell_type": "code",
   "execution_count": 92,
   "id": "6a6763a2",
   "metadata": {},
   "outputs": [
    {
     "data": {
      "text/html": [
       "<div>\n",
       "<style scoped>\n",
       "    .dataframe tbody tr th:only-of-type {\n",
       "        vertical-align: middle;\n",
       "    }\n",
       "\n",
       "    .dataframe tbody tr th {\n",
       "        vertical-align: top;\n",
       "    }\n",
       "\n",
       "    .dataframe thead th {\n",
       "        text-align: right;\n",
       "    }\n",
       "</style>\n",
       "<table border=\"1\" class=\"dataframe\">\n",
       "  <thead>\n",
       "    <tr style=\"text-align: right;\">\n",
       "      <th></th>\n",
       "      <th>quest_name</th>\n",
       "      <th>level</th>\n",
       "      <th>xp</th>\n",
       "      <th>type</th>\n",
       "    </tr>\n",
       "  </thead>\n",
       "  <tbody>\n",
       "    <tr>\n",
       "      <th>0</th>\n",
       "      <td>Raid: Syleio Seko</td>\n",
       "      <td>60</td>\n",
       "      <td>1600</td>\n",
       "      <td>faction</td>\n",
       "    </tr>\n",
       "    <tr>\n",
       "      <th>1</th>\n",
       "      <td>Raid: Hingatirn</td>\n",
       "      <td>60</td>\n",
       "      <td>1600</td>\n",
       "      <td>faction</td>\n",
       "    </tr>\n",
       "    <tr>\n",
       "      <th>2</th>\n",
       "      <td>Raid: Forecastle Drift (Elite)</td>\n",
       "      <td>60</td>\n",
       "      <td>2480</td>\n",
       "      <td>faction</td>\n",
       "    </tr>\n",
       "    <tr>\n",
       "      <th>3</th>\n",
       "      <td>Raid: Eternal Pool (Elite)</td>\n",
       "      <td>60</td>\n",
       "      <td>2480</td>\n",
       "      <td>faction</td>\n",
       "    </tr>\n",
       "    <tr>\n",
       "      <th>4</th>\n",
       "      <td>Raid: Spire of Melpomene (Elite)</td>\n",
       "      <td>60</td>\n",
       "      <td>2550</td>\n",
       "      <td>faction</td>\n",
       "    </tr>\n",
       "    <tr>\n",
       "      <th>...</th>\n",
       "      <td>...</td>\n",
       "      <td>...</td>\n",
       "      <td>...</td>\n",
       "      <td>...</td>\n",
       "    </tr>\n",
       "    <tr>\n",
       "      <th>7288</th>\n",
       "      <td>Cooks Needed</td>\n",
       "      <td>1</td>\n",
       "      <td>1040</td>\n",
       "      <td>town</td>\n",
       "    </tr>\n",
       "    <tr>\n",
       "      <th>7289</th>\n",
       "      <td>Cooks Needed</td>\n",
       "      <td>1</td>\n",
       "      <td>2190</td>\n",
       "      <td>town</td>\n",
       "    </tr>\n",
       "    <tr>\n",
       "      <th>7290</th>\n",
       "      <td>Cooks Needed</td>\n",
       "      <td>1</td>\n",
       "      <td>2190</td>\n",
       "      <td>town</td>\n",
       "    </tr>\n",
       "    <tr>\n",
       "      <th>7291</th>\n",
       "      <td>Cooks Needed</td>\n",
       "      <td>1</td>\n",
       "      <td>3170</td>\n",
       "      <td>town</td>\n",
       "    </tr>\n",
       "    <tr>\n",
       "      <th>7292</th>\n",
       "      <td>Cooks Needed</td>\n",
       "      <td>1</td>\n",
       "      <td>3170</td>\n",
       "      <td>town</td>\n",
       "    </tr>\n",
       "  </tbody>\n",
       "</table>\n",
       "<p>5645 rows × 4 columns</p>\n",
       "</div>"
      ],
      "text/plain": [
       "                            quest_name  level    xp     type\n",
       "0                    Raid: Syleio Seko     60  1600  faction\n",
       "1                      Raid: Hingatirn     60  1600  faction\n",
       "2       Raid: Forecastle Drift (Elite)     60  2480  faction\n",
       "3           Raid: Eternal Pool (Elite)     60  2480  faction\n",
       "4     Raid: Spire of Melpomene (Elite)     60  2550  faction\n",
       "...                                ...    ...   ...      ...\n",
       "7288                      Cooks Needed      1  1040     town\n",
       "7289                      Cooks Needed      1  2190     town\n",
       "7290                      Cooks Needed      1  2190     town\n",
       "7291                      Cooks Needed      1  3170     town\n",
       "7292                      Cooks Needed      1  3170     town\n",
       "\n",
       "[5645 rows x 4 columns]"
      ]
     },
     "execution_count": 92,
     "metadata": {},
     "output_type": "execute_result"
    }
   ],
   "source": [
    "# filtering out data when the xp were in the top 2.5% of the dataset or bottom 2.5% of the dataset.\n",
    "outliers = df[(df.xp >= df.xp.quantile(0.025)) & (df.xp <= df.xp.quantile(0.975))]\n",
    "outliers"
   ]
  },
  {
   "cell_type": "code",
   "execution_count": 107,
   "id": "7de3c637",
   "metadata": {},
   "outputs": [
    {
     "data": {
      "text/html": [
       "<div>\n",
       "<style scoped>\n",
       "    .dataframe tbody tr th:only-of-type {\n",
       "        vertical-align: middle;\n",
       "    }\n",
       "\n",
       "    .dataframe tbody tr th {\n",
       "        vertical-align: top;\n",
       "    }\n",
       "\n",
       "    .dataframe thead th {\n",
       "        text-align: right;\n",
       "    }\n",
       "</style>\n",
       "<table border=\"1\" class=\"dataframe\">\n",
       "  <thead>\n",
       "    <tr style=\"text-align: right;\">\n",
       "      <th>type</th>\n",
       "      <th>faction</th>\n",
       "      <th>main</th>\n",
       "      <th>side</th>\n",
       "      <th>town</th>\n",
       "    </tr>\n",
       "  </thead>\n",
       "  <tbody>\n",
       "    <tr>\n",
       "      <th>xp</th>\n",
       "      <td>924.655852</td>\n",
       "      <td>863.481481</td>\n",
       "      <td>2599.439834</td>\n",
       "      <td>1237.798036</td>\n",
       "    </tr>\n",
       "  </tbody>\n",
       "</table>\n",
       "</div>"
      ],
      "text/plain": [
       "type     faction        main         side         town\n",
       "xp    924.655852  863.481481  2599.439834  1237.798036"
      ]
     },
     "execution_count": 107,
     "metadata": {},
     "output_type": "execute_result"
    }
   ],
   "source": [
    "o_table"
   ]
  },
  {
   "cell_type": "code",
   "execution_count": 106,
   "id": "e105a6d3",
   "metadata": {},
   "outputs": [
    {
     "data": {
      "text/plain": [
       "<AxesSubplot:title={'center':'Avg xp without outliers'}, xlabel='level', ylabel='avg xp'>"
      ]
     },
     "execution_count": 106,
     "metadata": {},
     "output_type": "execute_result"
    },
    {
     "data": {
      "image/png": "[encoded data removed]",
      "text/plain": [
       "<Figure size 1152x648 with 1 Axes>"
      ]
     },
     "metadata": {
      "needs_background": "light"
     },
     "output_type": "display_data"
    }
   ],
   "source": [
    "o_table = pd.pivot_table(outliers, values = 'xp', columns = 'type')\n",
    "o_table.plot(kind = 'bar', figsize = (16, 9), xlabel = 'level', ylabel = 'avg xp', title = 'Avg xp without outliers')"
   ]
  },
  {
   "cell_type": "code",
   "execution_count": 104,
   "id": "6a24ba50",
   "metadata": {},
   "outputs": [
    {
     "data": {
      "text/plain": [
       "<AxesSubplot:xlabel='type', ylabel='xp'>"
      ]
     },
     "execution_count": 104,
     "metadata": {},
     "output_type": "execute_result"
    },
    {
     "data": {
      "image/png": "[encoded data removed]",
      "text/plain": [
       "<Figure size 1152x648 with 1 Axes>"
      ]
     },
     "metadata": {
      "needs_background": "light"
     },
     "output_type": "display_data"
    }
   ],
   "source": [
    "fig, ax = plt.subplots(figsize = (16, 9))\n",
    "sns.boxplot(x=\"type\", y=\"xp\", data = df, ax = ax)"
   ]
  },
  {
   "cell_type": "code",
   "execution_count": 16,
   "id": "3b2d56aa",
   "metadata": {},
   "outputs": [
    {
     "name": "stderr",
     "output_type": "stream",
     "text": [
      "<ipython-input-16-11007ecadccb>:3: UserWarning: Boolean Series key will be reindexed to match DataFrame index.\n",
      "  med_lvl = df[df['level'] >= 26][df['level'] <= 45]\n"
     ]
    }
   ],
   "source": [
    "# separate levels\n",
    "low_lvl = df[df['level'] <= 25]\n",
    "med_lvl = df[df['level'] >= 26][df['level'] <= 45]\n",
    "high_lvl = df[df['level'] >= 46]"
   ]
  },
  {
   "cell_type": "code",
   "execution_count": 17,
   "id": "f55aaf5d",
   "metadata": {},
   "outputs": [
    {
     "data": {
      "text/html": [
       "<div>\n",
       "<style scoped>\n",
       "    .dataframe tbody tr th:only-of-type {\n",
       "        vertical-align: middle;\n",
       "    }\n",
       "\n",
       "    .dataframe tbody tr th {\n",
       "        vertical-align: top;\n",
       "    }\n",
       "\n",
       "    .dataframe thead th {\n",
       "        text-align: right;\n",
       "    }\n",
       "</style>\n",
       "<table border=\"1\" class=\"dataframe\">\n",
       "  <thead>\n",
       "    <tr style=\"text-align: right;\">\n",
       "      <th></th>\n",
       "      <th>quest_name</th>\n",
       "      <th>level</th>\n",
       "      <th>xp</th>\n",
       "      <th>type</th>\n",
       "    </tr>\n",
       "  </thead>\n",
       "  <tbody>\n",
       "    <tr>\n",
       "      <th>2993</th>\n",
       "      <td>Raid: Cathedral de Vasquez</td>\n",
       "      <td>25</td>\n",
       "      <td>690</td>\n",
       "      <td>faction</td>\n",
       "    </tr>\n",
       "    <tr>\n",
       "      <th>2994</th>\n",
       "      <td>Raid: Walsham's Field</td>\n",
       "      <td>25</td>\n",
       "      <td>670</td>\n",
       "      <td>faction</td>\n",
       "    </tr>\n",
       "    <tr>\n",
       "      <th>2996</th>\n",
       "      <td>!</td>\n",
       "      <td>25</td>\n",
       "      <td>670</td>\n",
       "      <td>faction</td>\n",
       "    </tr>\n",
       "    <tr>\n",
       "      <th>2997</th>\n",
       "      <td>Plunder: Dromgoole</td>\n",
       "      <td>25</td>\n",
       "      <td>690</td>\n",
       "      <td>faction</td>\n",
       "    </tr>\n",
       "    <tr>\n",
       "      <th>2998</th>\n",
       "      <td>Hunt: The Eldritch</td>\n",
       "      <td>25</td>\n",
       "      <td>670</td>\n",
       "      <td>faction</td>\n",
       "    </tr>\n",
       "    <tr>\n",
       "      <th>...</th>\n",
       "      <td>...</td>\n",
       "      <td>...</td>\n",
       "      <td>...</td>\n",
       "      <td>...</td>\n",
       "    </tr>\n",
       "    <tr>\n",
       "      <th>7288</th>\n",
       "      <td>Cooks Needed</td>\n",
       "      <td>1</td>\n",
       "      <td>1040</td>\n",
       "      <td>town</td>\n",
       "    </tr>\n",
       "    <tr>\n",
       "      <th>7289</th>\n",
       "      <td>Cooks Needed</td>\n",
       "      <td>1</td>\n",
       "      <td>2190</td>\n",
       "      <td>town</td>\n",
       "    </tr>\n",
       "    <tr>\n",
       "      <th>7290</th>\n",
       "      <td>Cooks Needed</td>\n",
       "      <td>1</td>\n",
       "      <td>2190</td>\n",
       "      <td>town</td>\n",
       "    </tr>\n",
       "    <tr>\n",
       "      <th>7291</th>\n",
       "      <td>Cooks Needed</td>\n",
       "      <td>1</td>\n",
       "      <td>3170</td>\n",
       "      <td>town</td>\n",
       "    </tr>\n",
       "    <tr>\n",
       "      <th>7292</th>\n",
       "      <td>Cooks Needed</td>\n",
       "      <td>1</td>\n",
       "      <td>3170</td>\n",
       "      <td>town</td>\n",
       "    </tr>\n",
       "  </tbody>\n",
       "</table>\n",
       "<p>2960 rows × 4 columns</p>\n",
       "</div>"
      ],
      "text/plain": [
       "                      quest_name  level    xp     type\n",
       "2993  Raid: Cathedral de Vasquez     25   690  faction\n",
       "2994       Raid: Walsham's Field     25   670  faction\n",
       "2996                           !     25   670  faction\n",
       "2997          Plunder: Dromgoole     25   690  faction\n",
       "2998          Hunt: The Eldritch     25   670  faction\n",
       "...                          ...    ...   ...      ...\n",
       "7288                Cooks Needed      1  1040     town\n",
       "7289                Cooks Needed      1  2190     town\n",
       "7290                Cooks Needed      1  2190     town\n",
       "7291                Cooks Needed      1  3170     town\n",
       "7292                Cooks Needed      1  3170     town\n",
       "\n",
       "[2960 rows x 4 columns]"
      ]
     },
     "execution_count": 17,
     "metadata": {},
     "output_type": "execute_result"
    }
   ],
   "source": [
    "low_lvl"
   ]
  },
  {
   "cell_type": "code",
   "execution_count": 18,
   "id": "dad84ef7",
   "metadata": {},
   "outputs": [
    {
     "data": {
      "text/plain": [
       "912.5"
      ]
     },
     "execution_count": 18,
     "metadata": {},
     "output_type": "execute_result"
    }
   ],
   "source": [
    "round(low_lvl['xp'].mean(), 1)"
   ]
  },
  {
   "cell_type": "code",
   "execution_count": 74,
   "id": "1ea3b0d3",
   "metadata": {},
   "outputs": [
    {
     "data": {
      "text/plain": [
       "level       3.340491\n",
       "xp       2169.588957\n",
       "dtype: float64"
      ]
     },
     "execution_count": 74,
     "metadata": {},
     "output_type": "execute_result"
    }
   ],
   "source": [
    "low_lvl[low_lvl['type'] == 'side'].mean()"
   ]
  },
  {
   "cell_type": "code",
   "execution_count": 75,
   "id": "ae71a690",
   "metadata": {},
   "outputs": [
    {
     "data": {
      "text/plain": [
       "type\n",
       "faction     409.521452\n",
       "main       1064.580882\n",
       "side       2169.588957\n",
       "town       1624.191176\n",
       "Name: xp, dtype: float64"
      ]
     },
     "execution_count": 75,
     "metadata": {},
     "output_type": "execute_result"
    }
   ],
   "source": [
    "low_lvl.groupby(['type'])['xp'].mean()"
   ]
  },
  {
   "cell_type": "code",
   "execution_count": 76,
   "id": "24e0ced8",
   "metadata": {},
   "outputs": [
    {
     "data": {
      "text/plain": [
       "level      34.923077\n",
       "xp       2595.384615\n",
       "dtype: float64"
      ]
     },
     "execution_count": 76,
     "metadata": {},
     "output_type": "execute_result"
    }
   ],
   "source": [
    "med_lvl[med_lvl['type'] == 'side'].mean()"
   ]
  },
  {
   "cell_type": "code",
   "execution_count": 77,
   "id": "4b6b3c6e",
   "metadata": {},
   "outputs": [
    {
     "data": {
      "text/plain": [
       "type\n",
       "faction    1003.199382\n",
       "main       3677.705882\n",
       "side       2595.384615\n",
       "town       1172.297297\n",
       "Name: xp, dtype: float64"
      ]
     },
     "execution_count": 77,
     "metadata": {},
     "output_type": "execute_result"
    }
   ],
   "source": [
    "med_lvl.groupby(['type'])['xp'].mean()"
   ]
  },
  {
   "cell_type": "code",
   "execution_count": 78,
   "id": "85ff1efa",
   "metadata": {},
   "outputs": [
    {
     "data": {
      "text/plain": [
       "level      58.610738\n",
       "xp       4398.926174\n",
       "dtype: float64"
      ]
     },
     "execution_count": 78,
     "metadata": {},
     "output_type": "execute_result"
    }
   ],
   "source": [
    "high_lvl[high_lvl['type'] == 'side'].mean()"
   ]
  },
  {
   "cell_type": "code",
   "execution_count": 79,
   "id": "05b3f321",
   "metadata": {},
   "outputs": [
    {
     "data": {
      "text/plain": [
       "type\n",
       "faction    1592.598039\n",
       "main       6051.666667\n",
       "side       4398.926174\n",
       "town       1376.666667\n",
       "Name: xp, dtype: float64"
      ]
     },
     "execution_count": 79,
     "metadata": {},
     "output_type": "execute_result"
    }
   ],
   "source": [
    "high_lvl.groupby(['type'])['xp'].mean()"
   ]
  },
  {
   "cell_type": "code",
   "execution_count": 80,
   "id": "d6308fac",
   "metadata": {},
   "outputs": [
    {
     "data": {
      "text/plain": [
       "level      21.417166\n",
       "xp       2854.702595\n",
       "dtype: float64"
      ]
     },
     "execution_count": 80,
     "metadata": {},
     "output_type": "execute_result"
    }
   ],
   "source": [
    "df[df['type'] == 'side'].mean()"
   ]
  },
  {
   "cell_type": "code",
   "execution_count": 81,
   "id": "b5048034",
   "metadata": {},
   "outputs": [
    {
     "data": {
      "text/plain": [
       "type\n",
       "faction     920.661900\n",
       "main       1849.321637\n",
       "side       2854.702595\n",
       "town       1579.035667\n",
       "Name: xp, dtype: float64"
      ]
     },
     "execution_count": 81,
     "metadata": {},
     "output_type": "execute_result"
    }
   ],
   "source": [
    "df.groupby(['type'])['xp'].mean()"
   ]
  },
  {
   "cell_type": "code",
   "execution_count": 86,
   "id": "6ec9c668",
   "metadata": {},
   "outputs": [
    {
     "data": {
      "text/plain": [
       "type\n",
       "faction     920.661900\n",
       "main       1849.321637\n",
       "side       2854.702595\n",
       "town       1579.035667\n",
       "Name: xp, dtype: float64"
      ]
     },
     "execution_count": 86,
     "metadata": {},
     "output_type": "execute_result"
    }
   ],
   "source": [
    "boxplot = df.groupby(['type'])['xp'].mean()\n",
    "boxplot"
   ]
  },
  {
   "cell_type": "code",
   "execution_count": 19,
   "id": "3f0a97cc",
   "metadata": {},
   "outputs": [
    {
     "data": {
      "text/plain": [
       "<AxesSubplot:xlabel='level', ylabel='xp'>"
      ]
     },
     "execution_count": 19,
     "metadata": {},
     "output_type": "execute_result"
    },
    {
     "data": {
      "image/png": "[encoded data removed]",
      "text/plain": [
       "<Figure size 1152x720 with 1 Axes>"
      ]
     },
     "metadata": {
      "needs_background": "light"
     },
     "output_type": "display_data"
    }
   ],
   "source": [
    "low_lvl.plot.scatter(x = 'level', y = 'xp', figsize = (16, 10))"
   ]
  },
  {
   "cell_type": "code",
   "execution_count": 20,
   "id": "2032448d",
   "metadata": {},
   "outputs": [
    {
     "name": "stderr",
     "output_type": "stream",
     "text": [
      "<ipython-input-20-d90efc69f49c>:8: UserWarning: Boolean Series key will be reindexed to match DataFrame index.\n",
      "  t2 = x[x['level'] >= 6][x['level'] <= 10]\n",
      "<ipython-input-20-d90efc69f49c>:12: UserWarning: Boolean Series key will be reindexed to match DataFrame index.\n",
      "  t3 = x[x['level'] >= 11][x['level'] <= 15]\n",
      "<ipython-input-20-d90efc69f49c>:16: UserWarning: Boolean Series key will be reindexed to match DataFrame index.\n",
      "  t4 = x[x['level'] >= 16][x['level'] <= 20]\n",
      "<ipython-input-20-d90efc69f49c>:20: UserWarning: Boolean Series key will be reindexed to match DataFrame index.\n",
      "  t5 = x[x['level'] >= 21][x['level'] <= 25]\n"
     ]
    },
    {
     "data": {
      "text/html": [
       "<div>\n",
       "<style scoped>\n",
       "    .dataframe tbody tr th:only-of-type {\n",
       "        vertical-align: middle;\n",
       "    }\n",
       "\n",
       "    .dataframe tbody tr th {\n",
       "        vertical-align: top;\n",
       "    }\n",
       "\n",
       "    .dataframe thead th {\n",
       "        text-align: right;\n",
       "    }\n",
       "</style>\n",
       "<table border=\"1\" class=\"dataframe\">\n",
       "  <thead>\n",
       "    <tr style=\"text-align: right;\">\n",
       "      <th></th>\n",
       "      <th>type</th>\n",
       "      <th>xp</th>\n",
       "      <th>range</th>\n",
       "    </tr>\n",
       "  </thead>\n",
       "  <tbody>\n",
       "    <tr>\n",
       "      <th>0</th>\n",
       "      <td>faction</td>\n",
       "      <td>285.412475</td>\n",
       "      <td>1-5</td>\n",
       "    </tr>\n",
       "    <tr>\n",
       "      <th>1</th>\n",
       "      <td>main</td>\n",
       "      <td>1068.586538</td>\n",
       "      <td>1-5</td>\n",
       "    </tr>\n",
       "    <tr>\n",
       "      <th>2</th>\n",
       "      <td>side</td>\n",
       "      <td>2270.895105</td>\n",
       "      <td>1-5</td>\n",
       "    </tr>\n",
       "    <tr>\n",
       "      <th>3</th>\n",
       "      <td>town</td>\n",
       "      <td>1818.476703</td>\n",
       "      <td>1-5</td>\n",
       "    </tr>\n",
       "    <tr>\n",
       "      <th>4</th>\n",
       "      <td>faction</td>\n",
       "      <td>253.746556</td>\n",
       "      <td>6-10</td>\n",
       "    </tr>\n",
       "    <tr>\n",
       "      <th>5</th>\n",
       "      <td>main</td>\n",
       "      <td>352.000000</td>\n",
       "      <td>6-10</td>\n",
       "    </tr>\n",
       "    <tr>\n",
       "      <th>6</th>\n",
       "      <td>side</td>\n",
       "      <td>470.000000</td>\n",
       "      <td>6-10</td>\n",
       "    </tr>\n",
       "    <tr>\n",
       "      <th>7</th>\n",
       "      <td>town</td>\n",
       "      <td>674.000000</td>\n",
       "      <td>6-10</td>\n",
       "    </tr>\n",
       "    <tr>\n",
       "      <th>8</th>\n",
       "      <td>faction</td>\n",
       "      <td>353.031250</td>\n",
       "      <td>11-15</td>\n",
       "    </tr>\n",
       "    <tr>\n",
       "      <th>9</th>\n",
       "      <td>main</td>\n",
       "      <td>390.000000</td>\n",
       "      <td>11-15</td>\n",
       "    </tr>\n",
       "    <tr>\n",
       "      <th>10</th>\n",
       "      <td>side</td>\n",
       "      <td>658.000000</td>\n",
       "      <td>11-15</td>\n",
       "    </tr>\n",
       "    <tr>\n",
       "      <th>11</th>\n",
       "      <td>town</td>\n",
       "      <td>580.000000</td>\n",
       "      <td>11-15</td>\n",
       "    </tr>\n",
       "    <tr>\n",
       "      <th>12</th>\n",
       "      <td>faction</td>\n",
       "      <td>481.551020</td>\n",
       "      <td>16-20</td>\n",
       "    </tr>\n",
       "    <tr>\n",
       "      <th>13</th>\n",
       "      <td>main</td>\n",
       "      <td>2280.000000</td>\n",
       "      <td>16-20</td>\n",
       "    </tr>\n",
       "    <tr>\n",
       "      <th>14</th>\n",
       "      <td>side</td>\n",
       "      <td>2000.000000</td>\n",
       "      <td>16-20</td>\n",
       "    </tr>\n",
       "    <tr>\n",
       "      <th>15</th>\n",
       "      <td>town</td>\n",
       "      <td>856.250000</td>\n",
       "      <td>16-20</td>\n",
       "    </tr>\n",
       "    <tr>\n",
       "      <th>16</th>\n",
       "      <td>faction</td>\n",
       "      <td>711.450382</td>\n",
       "      <td>21-25</td>\n",
       "    </tr>\n",
       "    <tr>\n",
       "      <th>17</th>\n",
       "      <td>main</td>\n",
       "      <td>3982.500000</td>\n",
       "      <td>21-25</td>\n",
       "    </tr>\n",
       "    <tr>\n",
       "      <th>18</th>\n",
       "      <td>side</td>\n",
       "      <td>1884.782609</td>\n",
       "      <td>21-25</td>\n",
       "    </tr>\n",
       "    <tr>\n",
       "      <th>19</th>\n",
       "      <td>town</td>\n",
       "      <td>824.000000</td>\n",
       "      <td>21-25</td>\n",
       "    </tr>\n",
       "  </tbody>\n",
       "</table>\n",
       "</div>"
      ],
      "text/plain": [
       "       type           xp  range\n",
       "0   faction   285.412475    1-5\n",
       "1      main  1068.586538    1-5\n",
       "2      side  2270.895105    1-5\n",
       "3      town  1818.476703    1-5\n",
       "4   faction   253.746556   6-10\n",
       "5      main   352.000000   6-10\n",
       "6      side   470.000000   6-10\n",
       "7      town   674.000000   6-10\n",
       "8   faction   353.031250  11-15\n",
       "9      main   390.000000  11-15\n",
       "10     side   658.000000  11-15\n",
       "11     town   580.000000  11-15\n",
       "12  faction   481.551020  16-20\n",
       "13     main  2280.000000  16-20\n",
       "14     side  2000.000000  16-20\n",
       "15     town   856.250000  16-20\n",
       "16  faction   711.450382  21-25\n",
       "17     main  3982.500000  21-25\n",
       "18     side  1884.782609  21-25\n",
       "19     town   824.000000  21-25"
      ]
     },
     "execution_count": 20,
     "metadata": {},
     "output_type": "execute_result"
    }
   ],
   "source": [
    "x = low_lvl\n",
    "\n",
    "# grouping levels\n",
    "t1 = x[x['level'] <= 5]\n",
    "t1 = t1.groupby(['type'])['xp'].agg('mean').reset_index()\n",
    "t1['range'] = '1-5'\n",
    "\n",
    "t2 = x[x['level'] >= 6][x['level'] <= 10]\n",
    "t2 = t2.groupby(['type'])['xp'].agg('mean').reset_index()\n",
    "t2['range'] = '6-10'\n",
    "\n",
    "t3 = x[x['level'] >= 11][x['level'] <= 15]\n",
    "t3 = t3.groupby(['type'])['xp'].agg('mean').reset_index()\n",
    "t3['range'] = '11-15'\n",
    "\n",
    "t4 = x[x['level'] >= 16][x['level'] <= 20]\n",
    "t4 = t4.groupby(['type'])['xp'].agg('mean').reset_index()\n",
    "t4['range'] = '16-20'\n",
    "\n",
    "t5 = x[x['level'] >= 21][x['level'] <= 25]\n",
    "t5 = t5.groupby(['type'])['xp'].agg('mean').reset_index()\n",
    "t5['range'] = '21-25'\n",
    "\n",
    "# new table for low level\n",
    "low_plot = pd.concat([t1, t2, t3, t4, t5])\n",
    "low_plot.reset_index(drop = True)"
   ]
  },
  {
   "cell_type": "code",
   "execution_count": 21,
   "id": "4f3886d7",
   "metadata": {},
   "outputs": [
    {
     "data": {
      "text/plain": [
       "<AxesSubplot:title={'center':'Avg xp for low levels'}, xlabel='level', ylabel='avg xp'>"
      ]
     },
     "execution_count": 21,
     "metadata": {},
     "output_type": "execute_result"
    },
    {
     "data": {
      "image/png": "[encoded data removed]",
      "text/plain": [
       "<Figure size 1152x648 with 1 Axes>"
      ]
     },
     "metadata": {
      "needs_background": "light"
     },
     "output_type": "display_data"
    }
   ],
   "source": [
    "# rearranging data to plot\n",
    "table = pd.pivot_table(low_plot, values = 'xp', index = 'range', columns = 'type')\n",
    "table = table.reindex(index = ['1-5', '6-10', '11-15', '16-20', '21-25'])\n",
    "table.plot(kind = 'bar', figsize = (16, 9), xlabel = 'level', ylabel = 'avg xp', title = 'Avg xp for low levels')"
   ]
  },
  {
   "cell_type": "code",
   "execution_count": 36,
   "id": "d5c534a1",
   "metadata": {},
   "outputs": [
    {
     "data": {
      "text/html": [
       "<div>\n",
       "<style scoped>\n",
       "    .dataframe tbody tr th:only-of-type {\n",
       "        vertical-align: middle;\n",
       "    }\n",
       "\n",
       "    .dataframe tbody tr th {\n",
       "        vertical-align: top;\n",
       "    }\n",
       "\n",
       "    .dataframe thead th {\n",
       "        text-align: right;\n",
       "    }\n",
       "</style>\n",
       "<table border=\"1\" class=\"dataframe\">\n",
       "  <thead>\n",
       "    <tr style=\"text-align: right;\">\n",
       "      <th></th>\n",
       "      <th>quest_name</th>\n",
       "      <th>level</th>\n",
       "      <th>xp</th>\n",
       "      <th>type</th>\n",
       "    </tr>\n",
       "  </thead>\n",
       "  <tbody>\n",
       "    <tr>\n",
       "      <th>2993</th>\n",
       "      <td>Raid: Cathedral de Vasquez</td>\n",
       "      <td>25</td>\n",
       "      <td>690</td>\n",
       "      <td>faction</td>\n",
       "    </tr>\n",
       "    <tr>\n",
       "      <th>2994</th>\n",
       "      <td>Raid: Walsham's Field</td>\n",
       "      <td>25</td>\n",
       "      <td>670</td>\n",
       "      <td>faction</td>\n",
       "    </tr>\n",
       "    <tr>\n",
       "      <th>2996</th>\n",
       "      <td>!</td>\n",
       "      <td>25</td>\n",
       "      <td>670</td>\n",
       "      <td>faction</td>\n",
       "    </tr>\n",
       "    <tr>\n",
       "      <th>2997</th>\n",
       "      <td>Plunder: Dromgoole</td>\n",
       "      <td>25</td>\n",
       "      <td>690</td>\n",
       "      <td>faction</td>\n",
       "    </tr>\n",
       "    <tr>\n",
       "      <th>2998</th>\n",
       "      <td>Hunt: The Eldritch</td>\n",
       "      <td>25</td>\n",
       "      <td>670</td>\n",
       "      <td>faction</td>\n",
       "    </tr>\n",
       "    <tr>\n",
       "      <th>...</th>\n",
       "      <td>...</td>\n",
       "      <td>...</td>\n",
       "      <td>...</td>\n",
       "      <td>...</td>\n",
       "    </tr>\n",
       "    <tr>\n",
       "      <th>7288</th>\n",
       "      <td>Cooks Needed</td>\n",
       "      <td>1</td>\n",
       "      <td>1040</td>\n",
       "      <td>town</td>\n",
       "    </tr>\n",
       "    <tr>\n",
       "      <th>7289</th>\n",
       "      <td>Cooks Needed</td>\n",
       "      <td>1</td>\n",
       "      <td>2190</td>\n",
       "      <td>town</td>\n",
       "    </tr>\n",
       "    <tr>\n",
       "      <th>7290</th>\n",
       "      <td>Cooks Needed</td>\n",
       "      <td>1</td>\n",
       "      <td>2190</td>\n",
       "      <td>town</td>\n",
       "    </tr>\n",
       "    <tr>\n",
       "      <th>7291</th>\n",
       "      <td>Cooks Needed</td>\n",
       "      <td>1</td>\n",
       "      <td>3170</td>\n",
       "      <td>town</td>\n",
       "    </tr>\n",
       "    <tr>\n",
       "      <th>7292</th>\n",
       "      <td>Cooks Needed</td>\n",
       "      <td>1</td>\n",
       "      <td>3170</td>\n",
       "      <td>town</td>\n",
       "    </tr>\n",
       "  </tbody>\n",
       "</table>\n",
       "<p>2960 rows × 4 columns</p>\n",
       "</div>"
      ],
      "text/plain": [
       "                      quest_name  level    xp     type\n",
       "2993  Raid: Cathedral de Vasquez     25   690  faction\n",
       "2994       Raid: Walsham's Field     25   670  faction\n",
       "2996                           !     25   670  faction\n",
       "2997          Plunder: Dromgoole     25   690  faction\n",
       "2998          Hunt: The Eldritch     25   670  faction\n",
       "...                          ...    ...   ...      ...\n",
       "7288                Cooks Needed      1  1040     town\n",
       "7289                Cooks Needed      1  2190     town\n",
       "7290                Cooks Needed      1  2190     town\n",
       "7291                Cooks Needed      1  3170     town\n",
       "7292                Cooks Needed      1  3170     town\n",
       "\n",
       "[2960 rows x 4 columns]"
      ]
     },
     "execution_count": 36,
     "metadata": {},
     "output_type": "execute_result"
    }
   ],
   "source": [
    "low_lvl"
   ]
  },
  {
   "cell_type": "code",
   "execution_count": 62,
   "id": "e471bee9",
   "metadata": {},
   "outputs": [
    {
     "data": {
      "text/html": [
       "<div>\n",
       "<style scoped>\n",
       "    .dataframe tbody tr th:only-of-type {\n",
       "        vertical-align: middle;\n",
       "    }\n",
       "\n",
       "    .dataframe tbody tr th {\n",
       "        vertical-align: top;\n",
       "    }\n",
       "\n",
       "    .dataframe thead th {\n",
       "        text-align: right;\n",
       "    }\n",
       "</style>\n",
       "<table border=\"1\" class=\"dataframe\">\n",
       "  <thead>\n",
       "    <tr style=\"text-align: right;\">\n",
       "      <th>type</th>\n",
       "      <th>faction</th>\n",
       "      <th>main</th>\n",
       "      <th>side</th>\n",
       "      <th>town</th>\n",
       "    </tr>\n",
       "  </thead>\n",
       "  <tbody>\n",
       "    <tr>\n",
       "      <th>xp</th>\n",
       "      <td>409.521452</td>\n",
       "      <td>1064.580882</td>\n",
       "      <td>2169.588957</td>\n",
       "      <td>1624.191176</td>\n",
       "    </tr>\n",
       "  </tbody>\n",
       "</table>\n",
       "</div>"
      ],
      "text/plain": [
       "type     faction         main         side         town\n",
       "xp    409.521452  1064.580882  2169.588957  1624.191176"
      ]
     },
     "execution_count": 62,
     "metadata": {},
     "output_type": "execute_result"
    }
   ],
   "source": [
    "low = low_lvl.groupby(['type'])['xp'].agg('mean').reset_index()\n",
    "low = pd.pivot_table(low_lvl, values = 'xp', columns = 'type')\n",
    "low"
   ]
  },
  {
   "cell_type": "code",
   "execution_count": 63,
   "id": "3eecb9c9",
   "metadata": {},
   "outputs": [
    {
     "data": {
      "text/plain": [
       "<AxesSubplot:title={'center':'Avg xp for levels 1-25'}, xlabel='quest type', ylabel='avg xp'>"
      ]
     },
     "execution_count": 63,
     "metadata": {},
     "output_type": "execute_result"
    },
    {
     "data": {
      "image/png": "[encoded data removed]",
      "text/plain": [
       "<Figure size 720x504 with 1 Axes>"
      ]
     },
     "metadata": {
      "needs_background": "light"
     },
     "output_type": "display_data"
    }
   ],
   "source": [
    "#avg for levels 1-25 per quest type\n",
    "low.plot(kind = 'bar', figsize = (10,7), xlabel = 'quest type', ylabel = 'avg xp', title = 'Avg xp for levels 1-25')"
   ]
  },
  {
   "cell_type": "code",
   "execution_count": 24,
   "id": "4bbfde36",
   "metadata": {},
   "outputs": [
    {
     "data": {
      "text/html": [
       "<div>\n",
       "<style scoped>\n",
       "    .dataframe tbody tr th:only-of-type {\n",
       "        vertical-align: middle;\n",
       "    }\n",
       "\n",
       "    .dataframe tbody tr th {\n",
       "        vertical-align: top;\n",
       "    }\n",
       "\n",
       "    .dataframe thead th {\n",
       "        text-align: right;\n",
       "    }\n",
       "</style>\n",
       "<table border=\"1\" class=\"dataframe\">\n",
       "  <thead>\n",
       "    <tr style=\"text-align: right;\">\n",
       "      <th>type</th>\n",
       "      <th>faction</th>\n",
       "      <th>main</th>\n",
       "      <th>side</th>\n",
       "      <th>town</th>\n",
       "    </tr>\n",
       "    <tr>\n",
       "      <th>level</th>\n",
       "      <th></th>\n",
       "      <th></th>\n",
       "      <th></th>\n",
       "      <th></th>\n",
       "    </tr>\n",
       "  </thead>\n",
       "  <tbody>\n",
       "    <tr>\n",
       "      <th>1</th>\n",
       "      <td>404.981818</td>\n",
       "      <td>1564.578125</td>\n",
       "      <td>2306.320285</td>\n",
       "      <td>1818.476703</td>\n",
       "    </tr>\n",
       "    <tr>\n",
       "      <th>2</th>\n",
       "      <td>NaN</td>\n",
       "      <td>180.000000</td>\n",
       "      <td>NaN</td>\n",
       "      <td>NaN</td>\n",
       "    </tr>\n",
       "    <tr>\n",
       "      <th>3</th>\n",
       "      <td>NaN</td>\n",
       "      <td>233.333333</td>\n",
       "      <td>280.000000</td>\n",
       "      <td>NaN</td>\n",
       "    </tr>\n",
       "    <tr>\n",
       "      <th>4</th>\n",
       "      <td>130.000000</td>\n",
       "      <td>352.500000</td>\n",
       "      <td>NaN</td>\n",
       "      <td>NaN</td>\n",
       "    </tr>\n",
       "    <tr>\n",
       "      <th>5</th>\n",
       "      <td>160.000000</td>\n",
       "      <td>230.000000</td>\n",
       "      <td>280.000000</td>\n",
       "      <td>NaN</td>\n",
       "    </tr>\n",
       "    <tr>\n",
       "      <th>6</th>\n",
       "      <td>200.882353</td>\n",
       "      <td>240.000000</td>\n",
       "      <td>NaN</td>\n",
       "      <td>NaN</td>\n",
       "    </tr>\n",
       "    <tr>\n",
       "      <th>7</th>\n",
       "      <td>230.750000</td>\n",
       "      <td>460.000000</td>\n",
       "      <td>320.000000</td>\n",
       "      <td>580.000000</td>\n",
       "    </tr>\n",
       "    <tr>\n",
       "      <th>8</th>\n",
       "      <td>260.000000</td>\n",
       "      <td>NaN</td>\n",
       "      <td>NaN</td>\n",
       "      <td>NaN</td>\n",
       "    </tr>\n",
       "    <tr>\n",
       "      <th>9</th>\n",
       "      <td>298.823529</td>\n",
       "      <td>NaN</td>\n",
       "      <td>520.000000</td>\n",
       "      <td>NaN</td>\n",
       "    </tr>\n",
       "    <tr>\n",
       "      <th>10</th>\n",
       "      <td>316.229508</td>\n",
       "      <td>580.000000</td>\n",
       "      <td>520.000000</td>\n",
       "      <td>684.444444</td>\n",
       "    </tr>\n",
       "    <tr>\n",
       "      <th>11</th>\n",
       "      <td>322.222222</td>\n",
       "      <td>NaN</td>\n",
       "      <td>NaN</td>\n",
       "      <td>580.000000</td>\n",
       "    </tr>\n",
       "    <tr>\n",
       "      <th>12</th>\n",
       "      <td>325.156250</td>\n",
       "      <td>390.000000</td>\n",
       "      <td>630.000000</td>\n",
       "      <td>580.000000</td>\n",
       "    </tr>\n",
       "    <tr>\n",
       "      <th>13</th>\n",
       "      <td>338.333333</td>\n",
       "      <td>NaN</td>\n",
       "      <td>NaN</td>\n",
       "      <td>580.000000</td>\n",
       "    </tr>\n",
       "    <tr>\n",
       "      <th>14</th>\n",
       "      <td>382.641509</td>\n",
       "      <td>NaN</td>\n",
       "      <td>670.000000</td>\n",
       "      <td>580.000000</td>\n",
       "    </tr>\n",
       "    <tr>\n",
       "      <th>15</th>\n",
       "      <td>397.236842</td>\n",
       "      <td>NaN</td>\n",
       "      <td>870.000000</td>\n",
       "      <td>580.000000</td>\n",
       "    </tr>\n",
       "    <tr>\n",
       "      <th>16</th>\n",
       "      <td>430.975610</td>\n",
       "      <td>2000.000000</td>\n",
       "      <td>NaN</td>\n",
       "      <td>580.000000</td>\n",
       "    </tr>\n",
       "    <tr>\n",
       "      <th>17</th>\n",
       "      <td>452.025316</td>\n",
       "      <td>2150.000000</td>\n",
       "      <td>NaN</td>\n",
       "      <td>633.333333</td>\n",
       "    </tr>\n",
       "    <tr>\n",
       "      <th>18</th>\n",
       "      <td>471.875000</td>\n",
       "      <td>2690.000000</td>\n",
       "      <td>NaN</td>\n",
       "      <td>580.000000</td>\n",
       "    </tr>\n",
       "    <tr>\n",
       "      <th>19</th>\n",
       "      <td>510.000000</td>\n",
       "      <td>2280.000000</td>\n",
       "      <td>NaN</td>\n",
       "      <td>660.000000</td>\n",
       "    </tr>\n",
       "    <tr>\n",
       "      <th>20</th>\n",
       "      <td>540.000000</td>\n",
       "      <td>NaN</td>\n",
       "      <td>2000.000000</td>\n",
       "      <td>985.714286</td>\n",
       "    </tr>\n",
       "    <tr>\n",
       "      <th>21</th>\n",
       "      <td>570.000000</td>\n",
       "      <td>NaN</td>\n",
       "      <td>770.000000</td>\n",
       "      <td>772.941176</td>\n",
       "    </tr>\n",
       "    <tr>\n",
       "      <th>22</th>\n",
       "      <td>658.571429</td>\n",
       "      <td>NaN</td>\n",
       "      <td>NaN</td>\n",
       "      <td>860.000000</td>\n",
       "    </tr>\n",
       "    <tr>\n",
       "      <th>23</th>\n",
       "      <td>752.857143</td>\n",
       "      <td>3540.000000</td>\n",
       "      <td>NaN</td>\n",
       "      <td>NaN</td>\n",
       "    </tr>\n",
       "    <tr>\n",
       "      <th>24</th>\n",
       "      <td>767.356322</td>\n",
       "      <td>NaN</td>\n",
       "      <td>NaN</td>\n",
       "      <td>964.000000</td>\n",
       "    </tr>\n",
       "    <tr>\n",
       "      <th>25</th>\n",
       "      <td>797.037037</td>\n",
       "      <td>4425.000000</td>\n",
       "      <td>1935.454545</td>\n",
       "      <td>740.000000</td>\n",
       "    </tr>\n",
       "  </tbody>\n",
       "</table>\n",
       "</div>"
      ],
      "text/plain": [
       "type      faction         main         side         town\n",
       "level                                                   \n",
       "1      404.981818  1564.578125  2306.320285  1818.476703\n",
       "2             NaN   180.000000          NaN          NaN\n",
       "3             NaN   233.333333   280.000000          NaN\n",
       "4      130.000000   352.500000          NaN          NaN\n",
       "5      160.000000   230.000000   280.000000          NaN\n",
       "6      200.882353   240.000000          NaN          NaN\n",
       "7      230.750000   460.000000   320.000000   580.000000\n",
       "8      260.000000          NaN          NaN          NaN\n",
       "9      298.823529          NaN   520.000000          NaN\n",
       "10     316.229508   580.000000   520.000000   684.444444\n",
       "11     322.222222          NaN          NaN   580.000000\n",
       "12     325.156250   390.000000   630.000000   580.000000\n",
       "13     338.333333          NaN          NaN   580.000000\n",
       "14     382.641509          NaN   670.000000   580.000000\n",
       "15     397.236842          NaN   870.000000   580.000000\n",
       "16     430.975610  2000.000000          NaN   580.000000\n",
       "17     452.025316  2150.000000          NaN   633.333333\n",
       "18     471.875000  2690.000000          NaN   580.000000\n",
       "19     510.000000  2280.000000          NaN   660.000000\n",
       "20     540.000000          NaN  2000.000000   985.714286\n",
       "21     570.000000          NaN   770.000000   772.941176\n",
       "22     658.571429          NaN          NaN   860.000000\n",
       "23     752.857143  3540.000000          NaN          NaN\n",
       "24     767.356322          NaN          NaN   964.000000\n",
       "25     797.037037  4425.000000  1935.454545   740.000000"
      ]
     },
     "execution_count": 24,
     "metadata": {},
     "output_type": "execute_result"
    }
   ],
   "source": [
    "low_all = low_lvl.groupby(['type', 'level'])['xp'].agg('mean').reset_index()\n",
    "low_all = pd.pivot_table(low_all, values = 'xp', index = 'level', columns = 'type')\n",
    "low_all"
   ]
  },
  {
   "cell_type": "code",
   "execution_count": 42,
   "id": "9663d14d",
   "metadata": {},
   "outputs": [
    {
     "data": {
      "text/plain": [
       "<AxesSubplot:title={'center':'Avg xp for each level (low)'}, xlabel='level', ylabel='xp'>"
      ]
     },
     "execution_count": 42,
     "metadata": {},
     "output_type": "execute_result"
    },
    {
     "data": {
      "image/png": "[encoded data removed]",
      "text/plain": [
       "<Figure size 1152x720 with 1 Axes>"
      ]
     },
     "metadata": {
      "needs_background": "light"
     },
     "output_type": "display_data"
    }
   ],
   "source": [
    "low_all.plot(kind='bar', figsize = (16,10), xlabel = 'level', ylabel = 'xp', width = .75, title = 'Avg xp for each level (low)')"
   ]
  },
  {
   "cell_type": "code",
   "execution_count": 52,
   "id": "67caaff2",
   "metadata": {},
   "outputs": [
    {
     "data": {
      "text/html": [
       "<div>\n",
       "<style scoped>\n",
       "    .dataframe tbody tr th:only-of-type {\n",
       "        vertical-align: middle;\n",
       "    }\n",
       "\n",
       "    .dataframe tbody tr th {\n",
       "        vertical-align: top;\n",
       "    }\n",
       "\n",
       "    .dataframe thead th {\n",
       "        text-align: right;\n",
       "    }\n",
       "</style>\n",
       "<table border=\"1\" class=\"dataframe\">\n",
       "  <thead>\n",
       "    <tr style=\"text-align: right;\">\n",
       "      <th></th>\n",
       "      <th>quest_name</th>\n",
       "      <th>level</th>\n",
       "      <th>xp</th>\n",
       "      <th>type</th>\n",
       "    </tr>\n",
       "  </thead>\n",
       "  <tbody>\n",
       "    <tr>\n",
       "      <th>1335</th>\n",
       "      <td>Raid: Lunaryth</td>\n",
       "      <td>45</td>\n",
       "      <td>1100</td>\n",
       "      <td>faction</td>\n",
       "    </tr>\n",
       "    <tr>\n",
       "      <th>1336</th>\n",
       "      <td>Raid: Sunadire</td>\n",
       "      <td>45</td>\n",
       "      <td>1100</td>\n",
       "      <td>faction</td>\n",
       "    </tr>\n",
       "    <tr>\n",
       "      <th>1337</th>\n",
       "      <td>Raid: Stephen's Claim</td>\n",
       "      <td>45</td>\n",
       "      <td>1100</td>\n",
       "      <td>faction</td>\n",
       "    </tr>\n",
       "    <tr>\n",
       "      <th>1338</th>\n",
       "      <td>Raid: Smuggler's Cave</td>\n",
       "      <td>45</td>\n",
       "      <td>1100</td>\n",
       "      <td>faction</td>\n",
       "    </tr>\n",
       "    <tr>\n",
       "      <th>1339</th>\n",
       "      <td>Raid: Broken Promise</td>\n",
       "      <td>45</td>\n",
       "      <td>1100</td>\n",
       "      <td>faction</td>\n",
       "    </tr>\n",
       "    <tr>\n",
       "      <th>...</th>\n",
       "      <td>...</td>\n",
       "      <td>...</td>\n",
       "      <td>...</td>\n",
       "      <td>...</td>\n",
       "    </tr>\n",
       "    <tr>\n",
       "      <th>6608</th>\n",
       "      <td>Explorers Needed</td>\n",
       "      <td>26</td>\n",
       "      <td>740</td>\n",
       "      <td>town</td>\n",
       "    </tr>\n",
       "    <tr>\n",
       "      <th>6609</th>\n",
       "      <td>Explorers Needed</td>\n",
       "      <td>26</td>\n",
       "      <td>740</td>\n",
       "      <td>town</td>\n",
       "    </tr>\n",
       "    <tr>\n",
       "      <th>6610</th>\n",
       "      <td>Explorers Needed</td>\n",
       "      <td>26</td>\n",
       "      <td>740</td>\n",
       "      <td>town</td>\n",
       "    </tr>\n",
       "    <tr>\n",
       "      <th>6611</th>\n",
       "      <td>Explorers Needed</td>\n",
       "      <td>26</td>\n",
       "      <td>740</td>\n",
       "      <td>town</td>\n",
       "    </tr>\n",
       "    <tr>\n",
       "      <th>6612</th>\n",
       "      <td>Explorers Needed</td>\n",
       "      <td>26</td>\n",
       "      <td>740</td>\n",
       "      <td>town</td>\n",
       "    </tr>\n",
       "  </tbody>\n",
       "</table>\n",
       "<p>1411 rows × 4 columns</p>\n",
       "</div>"
      ],
      "text/plain": [
       "                 quest_name  level    xp     type\n",
       "1335         Raid: Lunaryth     45  1100  faction\n",
       "1336         Raid: Sunadire     45  1100  faction\n",
       "1337  Raid: Stephen's Claim     45  1100  faction\n",
       "1338  Raid: Smuggler's Cave     45  1100  faction\n",
       "1339   Raid: Broken Promise     45  1100  faction\n",
       "...                     ...    ...   ...      ...\n",
       "6608       Explorers Needed     26   740     town\n",
       "6609       Explorers Needed     26   740     town\n",
       "6610       Explorers Needed     26   740     town\n",
       "6611       Explorers Needed     26   740     town\n",
       "6612       Explorers Needed     26   740     town\n",
       "\n",
       "[1411 rows x 4 columns]"
      ]
     },
     "execution_count": 52,
     "metadata": {},
     "output_type": "execute_result"
    }
   ],
   "source": [
    "med_lvl"
   ]
  },
  {
   "cell_type": "code",
   "execution_count": 27,
   "id": "2d9f32b7",
   "metadata": {},
   "outputs": [
    {
     "data": {
      "text/plain": [
       "1073.6"
      ]
     },
     "execution_count": 27,
     "metadata": {},
     "output_type": "execute_result"
    }
   ],
   "source": [
    "round(med_lvl['xp'].mean(), 1)"
   ]
  },
  {
   "cell_type": "code",
   "execution_count": 26,
   "id": "d143ceaf",
   "metadata": {},
   "outputs": [
    {
     "data": {
      "text/plain": [
       "<AxesSubplot:xlabel='level', ylabel='xp'>"
      ]
     },
     "execution_count": 26,
     "metadata": {},
     "output_type": "execute_result"
    },
    {
     "data": {
      "image/png": "[encoded data removed]",
      "text/plain": [
       "<Figure size 1152x720 with 1 Axes>"
      ]
     },
     "metadata": {
      "needs_background": "light"
     },
     "output_type": "display_data"
    }
   ],
   "source": [
    "med_lvl.plot.scatter(x = 'level', y = 'xp', figsize = (16, 10))"
   ]
  },
  {
   "cell_type": "code",
   "execution_count": 34,
   "id": "e1d76c22",
   "metadata": {},
   "outputs": [
    {
     "data": {
      "text/html": [
       "<div>\n",
       "<style scoped>\n",
       "    .dataframe tbody tr th:only-of-type {\n",
       "        vertical-align: middle;\n",
       "    }\n",
       "\n",
       "    .dataframe tbody tr th {\n",
       "        vertical-align: top;\n",
       "    }\n",
       "\n",
       "    .dataframe thead th {\n",
       "        text-align: right;\n",
       "    }\n",
       "</style>\n",
       "<table border=\"1\" class=\"dataframe\">\n",
       "  <thead>\n",
       "    <tr style=\"text-align: right;\">\n",
       "      <th>type</th>\n",
       "      <th>faction</th>\n",
       "      <th>main</th>\n",
       "      <th>side</th>\n",
       "      <th>town</th>\n",
       "    </tr>\n",
       "  </thead>\n",
       "  <tbody>\n",
       "    <tr>\n",
       "      <th>xp</th>\n",
       "      <td>1003.199382</td>\n",
       "      <td>3677.705882</td>\n",
       "      <td>2595.384615</td>\n",
       "      <td>1172.297297</td>\n",
       "    </tr>\n",
       "  </tbody>\n",
       "</table>\n",
       "</div>"
      ],
      "text/plain": [
       "type      faction         main         side         town\n",
       "xp    1003.199382  3677.705882  2595.384615  1172.297297"
      ]
     },
     "execution_count": 34,
     "metadata": {},
     "output_type": "execute_result"
    }
   ],
   "source": [
    "med"
   ]
  },
  {
   "cell_type": "code",
   "execution_count": 33,
   "id": "57ccb8b1",
   "metadata": {},
   "outputs": [
    {
     "data": {
      "text/plain": [
       "<AxesSubplot:title={'center':'Avg xp for levels 26-45'}, xlabel='quest type', ylabel='avg xp'>"
      ]
     },
     "execution_count": 33,
     "metadata": {},
     "output_type": "execute_result"
    },
    {
     "data": {
      "image/png": "[encoded data removed]",
      "text/plain": [
       "<Figure size 720x504 with 1 Axes>"
      ]
     },
     "metadata": {
      "needs_background": "light"
     },
     "output_type": "display_data"
    }
   ],
   "source": [
    "med = pd.pivot_table(med_lvl, values = 'xp', columns = 'type')\n",
    "med.plot(kind = 'bar', figsize = (10,7), xlabel = 'quest type', ylabel = 'avg xp', title = 'Avg xp for levels 26-45')"
   ]
  },
  {
   "cell_type": "code",
   "execution_count": 28,
   "id": "445b3320",
   "metadata": {},
   "outputs": [
    {
     "name": "stderr",
     "output_type": "stream",
     "text": [
      "<ipython-input-28-23c00f6bbff3>:4: UserWarning: Boolean Series key will be reindexed to match DataFrame index.\n",
      "  t1 = x[x['level'] <= 26][x['level'] <= 30]\n",
      "<ipython-input-28-23c00f6bbff3>:8: UserWarning: Boolean Series key will be reindexed to match DataFrame index.\n",
      "  t2 = x[x['level'] >= 31][x['level'] <= 35]\n",
      "<ipython-input-28-23c00f6bbff3>:12: UserWarning: Boolean Series key will be reindexed to match DataFrame index.\n",
      "  t3 = x[x['level'] >= 36][x['level'] <= 40]\n",
      "<ipython-input-28-23c00f6bbff3>:16: UserWarning: Boolean Series key will be reindexed to match DataFrame index.\n",
      "  t4 = x[x['level'] >= 41][x['level'] <= 45]\n"
     ]
    },
    {
     "data": {
      "text/html": [
       "<div>\n",
       "<style scoped>\n",
       "    .dataframe tbody tr th:only-of-type {\n",
       "        vertical-align: middle;\n",
       "    }\n",
       "\n",
       "    .dataframe tbody tr th {\n",
       "        vertical-align: top;\n",
       "    }\n",
       "\n",
       "    .dataframe thead th {\n",
       "        text-align: right;\n",
       "    }\n",
       "</style>\n",
       "<table border=\"1\" class=\"dataframe\">\n",
       "  <thead>\n",
       "    <tr style=\"text-align: right;\">\n",
       "      <th></th>\n",
       "      <th>type</th>\n",
       "      <th>xp</th>\n",
       "      <th>range</th>\n",
       "    </tr>\n",
       "  </thead>\n",
       "  <tbody>\n",
       "    <tr>\n",
       "      <th>0</th>\n",
       "      <td>faction</td>\n",
       "      <td>690.000000</td>\n",
       "      <td>26-30</td>\n",
       "    </tr>\n",
       "    <tr>\n",
       "      <th>1</th>\n",
       "      <td>main</td>\n",
       "      <td>3080.000000</td>\n",
       "      <td>26-30</td>\n",
       "    </tr>\n",
       "    <tr>\n",
       "      <th>2</th>\n",
       "      <td>side</td>\n",
       "      <td>1280.000000</td>\n",
       "      <td>26-30</td>\n",
       "    </tr>\n",
       "    <tr>\n",
       "      <th>3</th>\n",
       "      <td>town</td>\n",
       "      <td>786.666667</td>\n",
       "      <td>26-30</td>\n",
       "    </tr>\n",
       "    <tr>\n",
       "      <th>0</th>\n",
       "      <td>faction</td>\n",
       "      <td>905.778547</td>\n",
       "      <td>31-35</td>\n",
       "    </tr>\n",
       "    <tr>\n",
       "      <th>1</th>\n",
       "      <td>main</td>\n",
       "      <td>1843.444444</td>\n",
       "      <td>31-35</td>\n",
       "    </tr>\n",
       "    <tr>\n",
       "      <th>2</th>\n",
       "      <td>side</td>\n",
       "      <td>3076.666667</td>\n",
       "      <td>31-35</td>\n",
       "    </tr>\n",
       "    <tr>\n",
       "      <th>3</th>\n",
       "      <td>town</td>\n",
       "      <td>1291.621622</td>\n",
       "      <td>31-35</td>\n",
       "    </tr>\n",
       "    <tr>\n",
       "      <th>0</th>\n",
       "      <td>faction</td>\n",
       "      <td>1123.524804</td>\n",
       "      <td>36-40</td>\n",
       "    </tr>\n",
       "    <tr>\n",
       "      <th>1</th>\n",
       "      <td>main</td>\n",
       "      <td>7563.333333</td>\n",
       "      <td>36-40</td>\n",
       "    </tr>\n",
       "    <tr>\n",
       "      <th>2</th>\n",
       "      <td>side</td>\n",
       "      <td>2007.500000</td>\n",
       "      <td>36-40</td>\n",
       "    </tr>\n",
       "    <tr>\n",
       "      <th>3</th>\n",
       "      <td>town</td>\n",
       "      <td>1384.285714</td>\n",
       "      <td>36-40</td>\n",
       "    </tr>\n",
       "    <tr>\n",
       "      <th>0</th>\n",
       "      <td>faction</td>\n",
       "      <td>1108.611825</td>\n",
       "      <td>41-45</td>\n",
       "    </tr>\n",
       "    <tr>\n",
       "      <th>1</th>\n",
       "      <td>main</td>\n",
       "      <td>5503.333333</td>\n",
       "      <td>41-45</td>\n",
       "    </tr>\n",
       "    <tr>\n",
       "      <th>2</th>\n",
       "      <td>side</td>\n",
       "      <td>4276.666667</td>\n",
       "      <td>41-45</td>\n",
       "    </tr>\n",
       "    <tr>\n",
       "      <th>3</th>\n",
       "      <td>town</td>\n",
       "      <td>1430.000000</td>\n",
       "      <td>41-45</td>\n",
       "    </tr>\n",
       "  </tbody>\n",
       "</table>\n",
       "</div>"
      ],
      "text/plain": [
       "      type           xp  range\n",
       "0  faction   690.000000  26-30\n",
       "1     main  3080.000000  26-30\n",
       "2     side  1280.000000  26-30\n",
       "3     town   786.666667  26-30\n",
       "0  faction   905.778547  31-35\n",
       "1     main  1843.444444  31-35\n",
       "2     side  3076.666667  31-35\n",
       "3     town  1291.621622  31-35\n",
       "0  faction  1123.524804  36-40\n",
       "1     main  7563.333333  36-40\n",
       "2     side  2007.500000  36-40\n",
       "3     town  1384.285714  36-40\n",
       "0  faction  1108.611825  41-45\n",
       "1     main  5503.333333  41-45\n",
       "2     side  4276.666667  41-45\n",
       "3     town  1430.000000  41-45"
      ]
     },
     "execution_count": 28,
     "metadata": {},
     "output_type": "execute_result"
    }
   ],
   "source": [
    "x = med_lvl\n",
    "\n",
    "# grouping levels\n",
    "t1 = x[x['level'] <= 26][x['level'] <= 30]\n",
    "t1 = t1.groupby(['type'])['xp'].agg('mean').reset_index()\n",
    "t1['range'] = '26-30'\n",
    "\n",
    "t2 = x[x['level'] >= 31][x['level'] <= 35]\n",
    "t2 = t2.groupby(['type'])['xp'].agg('mean').reset_index()\n",
    "t2['range'] = '31-35'\n",
    "\n",
    "t3 = x[x['level'] >= 36][x['level'] <= 40]\n",
    "t3 = t3.groupby(['type'])['xp'].agg('mean').reset_index()\n",
    "t3['range'] = '36-40'\n",
    "\n",
    "t4 = x[x['level'] >= 41][x['level'] <= 45]\n",
    "t4 = t4.groupby(['type'])['xp'].agg('mean').reset_index()\n",
    "t4['range'] = '41-45'\n",
    "\n",
    "# new table for med level\n",
    "med_plot = pd.concat([t1, t2, t3, t4])\n",
    "med_plot.reset_index(drop = True)\n",
    "med_plot"
   ]
  },
  {
   "cell_type": "code",
   "execution_count": 30,
   "id": "8fad618e",
   "metadata": {},
   "outputs": [
    {
     "data": {
      "text/html": [
       "<div>\n",
       "<style scoped>\n",
       "    .dataframe tbody tr th:only-of-type {\n",
       "        vertical-align: middle;\n",
       "    }\n",
       "\n",
       "    .dataframe tbody tr th {\n",
       "        vertical-align: top;\n",
       "    }\n",
       "\n",
       "    .dataframe thead th {\n",
       "        text-align: right;\n",
       "    }\n",
       "</style>\n",
       "<table border=\"1\" class=\"dataframe\">\n",
       "  <thead>\n",
       "    <tr style=\"text-align: right;\">\n",
       "      <th>type</th>\n",
       "      <th>faction</th>\n",
       "      <th>main</th>\n",
       "      <th>side</th>\n",
       "      <th>town</th>\n",
       "    </tr>\n",
       "    <tr>\n",
       "      <th>range</th>\n",
       "      <th></th>\n",
       "      <th></th>\n",
       "      <th></th>\n",
       "      <th></th>\n",
       "    </tr>\n",
       "  </thead>\n",
       "  <tbody>\n",
       "    <tr>\n",
       "      <th>26-30</th>\n",
       "      <td>690.000000</td>\n",
       "      <td>3080.000000</td>\n",
       "      <td>1280.000000</td>\n",
       "      <td>786.666667</td>\n",
       "    </tr>\n",
       "    <tr>\n",
       "      <th>31-35</th>\n",
       "      <td>905.778547</td>\n",
       "      <td>1843.444444</td>\n",
       "      <td>3076.666667</td>\n",
       "      <td>1291.621622</td>\n",
       "    </tr>\n",
       "    <tr>\n",
       "      <th>36-40</th>\n",
       "      <td>1123.524804</td>\n",
       "      <td>7563.333333</td>\n",
       "      <td>2007.500000</td>\n",
       "      <td>1384.285714</td>\n",
       "    </tr>\n",
       "    <tr>\n",
       "      <th>41-45</th>\n",
       "      <td>1108.611825</td>\n",
       "      <td>5503.333333</td>\n",
       "      <td>4276.666667</td>\n",
       "      <td>1430.000000</td>\n",
       "    </tr>\n",
       "  </tbody>\n",
       "</table>\n",
       "</div>"
      ],
      "text/plain": [
       "type       faction         main         side         town\n",
       "range                                                    \n",
       "26-30   690.000000  3080.000000  1280.000000   786.666667\n",
       "31-35   905.778547  1843.444444  3076.666667  1291.621622\n",
       "36-40  1123.524804  7563.333333  2007.500000  1384.285714\n",
       "41-45  1108.611825  5503.333333  4276.666667  1430.000000"
      ]
     },
     "execution_count": 30,
     "metadata": {},
     "output_type": "execute_result"
    }
   ],
   "source": [
    "table"
   ]
  },
  {
   "cell_type": "code",
   "execution_count": 31,
   "id": "793a1ba2",
   "metadata": {},
   "outputs": [
    {
     "data": {
      "text/plain": [
       "<AxesSubplot:title={'center':'Avg xp for med levels'}, xlabel='level', ylabel='avg xp'>"
      ]
     },
     "execution_count": 31,
     "metadata": {},
     "output_type": "execute_result"
    },
    {
     "data": {
      "image/png": "[encoded data removed]",
      "text/plain": [
       "<Figure size 1152x648 with 1 Axes>"
      ]
     },
     "metadata": {
      "needs_background": "light"
     },
     "output_type": "display_data"
    }
   ],
   "source": [
    "table = pd.pivot_table(med_plot, values = 'xp', index = 'range', columns = 'type')\n",
    "table.plot(kind = 'bar', figsize = (16, 9), xlabel = 'level', ylabel = 'avg xp', title = 'Avg xp for med levels')"
   ]
  },
  {
   "cell_type": "code",
   "execution_count": 40,
   "id": "d9609c33",
   "metadata": {},
   "outputs": [
    {
     "data": {
      "text/html": [
       "<div>\n",
       "<style scoped>\n",
       "    .dataframe tbody tr th:only-of-type {\n",
       "        vertical-align: middle;\n",
       "    }\n",
       "\n",
       "    .dataframe tbody tr th {\n",
       "        vertical-align: top;\n",
       "    }\n",
       "\n",
       "    .dataframe thead th {\n",
       "        text-align: right;\n",
       "    }\n",
       "</style>\n",
       "<table border=\"1\" class=\"dataframe\">\n",
       "  <thead>\n",
       "    <tr style=\"text-align: right;\">\n",
       "      <th>type</th>\n",
       "      <th>faction</th>\n",
       "      <th>main</th>\n",
       "      <th>side</th>\n",
       "      <th>town</th>\n",
       "    </tr>\n",
       "    <tr>\n",
       "      <th>level</th>\n",
       "      <th></th>\n",
       "      <th></th>\n",
       "      <th></th>\n",
       "      <th></th>\n",
       "    </tr>\n",
       "  </thead>\n",
       "  <tbody>\n",
       "    <tr>\n",
       "      <th>26</th>\n",
       "      <td>690.000000</td>\n",
       "      <td>3080.000</td>\n",
       "      <td>1280.000000</td>\n",
       "      <td>786.666667</td>\n",
       "    </tr>\n",
       "    <tr>\n",
       "      <th>27</th>\n",
       "      <td>807.272727</td>\n",
       "      <td>NaN</td>\n",
       "      <td>1330.000000</td>\n",
       "      <td>872.500000</td>\n",
       "    </tr>\n",
       "    <tr>\n",
       "      <th>28</th>\n",
       "      <td>702.222222</td>\n",
       "      <td>NaN</td>\n",
       "      <td>1380.000000</td>\n",
       "      <td>686.666667</td>\n",
       "    </tr>\n",
       "    <tr>\n",
       "      <th>29</th>\n",
       "      <td>775.384615</td>\n",
       "      <td>NaN</td>\n",
       "      <td>NaN</td>\n",
       "      <td>740.000000</td>\n",
       "    </tr>\n",
       "    <tr>\n",
       "      <th>30</th>\n",
       "      <td>780.555556</td>\n",
       "      <td>3650.000</td>\n",
       "      <td>1476.666667</td>\n",
       "      <td>NaN</td>\n",
       "    </tr>\n",
       "    <tr>\n",
       "      <th>31</th>\n",
       "      <td>813.333333</td>\n",
       "      <td>NaN</td>\n",
       "      <td>NaN</td>\n",
       "      <td>1283.333333</td>\n",
       "    </tr>\n",
       "    <tr>\n",
       "      <th>32</th>\n",
       "      <td>932.333333</td>\n",
       "      <td>1545.125</td>\n",
       "      <td>NaN</td>\n",
       "      <td>1334.000000</td>\n",
       "    </tr>\n",
       "    <tr>\n",
       "      <th>33</th>\n",
       "      <td>966.574074</td>\n",
       "      <td>NaN</td>\n",
       "      <td>NaN</td>\n",
       "      <td>1270.000000</td>\n",
       "    </tr>\n",
       "    <tr>\n",
       "      <th>34</th>\n",
       "      <td>736.153846</td>\n",
       "      <td>NaN</td>\n",
       "      <td>2070.000000</td>\n",
       "      <td>1430.000000</td>\n",
       "    </tr>\n",
       "    <tr>\n",
       "      <th>35</th>\n",
       "      <td>890.000000</td>\n",
       "      <td>4230.000</td>\n",
       "      <td>3278.000000</td>\n",
       "      <td>1270.000000</td>\n",
       "    </tr>\n",
       "    <tr>\n",
       "      <th>36</th>\n",
       "      <td>910.000000</td>\n",
       "      <td>5440.000</td>\n",
       "      <td>NaN</td>\n",
       "      <td>1430.000000</td>\n",
       "    </tr>\n",
       "    <tr>\n",
       "      <th>37</th>\n",
       "      <td>1411.941748</td>\n",
       "      <td>NaN</td>\n",
       "      <td>NaN</td>\n",
       "      <td>1270.000000</td>\n",
       "    </tr>\n",
       "    <tr>\n",
       "      <th>38</th>\n",
       "      <td>1270.000000</td>\n",
       "      <td>NaN</td>\n",
       "      <td>1370.000000</td>\n",
       "      <td>1430.000000</td>\n",
       "    </tr>\n",
       "    <tr>\n",
       "      <th>39</th>\n",
       "      <td>899.166667</td>\n",
       "      <td>NaN</td>\n",
       "      <td>NaN</td>\n",
       "      <td>1398.000000</td>\n",
       "    </tr>\n",
       "    <tr>\n",
       "      <th>40</th>\n",
       "      <td>1028.225806</td>\n",
       "      <td>8625.000</td>\n",
       "      <td>2220.000000</td>\n",
       "      <td>1430.000000</td>\n",
       "    </tr>\n",
       "    <tr>\n",
       "      <th>41</th>\n",
       "      <td>1020.000000</td>\n",
       "      <td>NaN</td>\n",
       "      <td>NaN</td>\n",
       "      <td>NaN</td>\n",
       "    </tr>\n",
       "    <tr>\n",
       "      <th>42</th>\n",
       "      <td>1158.888889</td>\n",
       "      <td>4980.000</td>\n",
       "      <td>NaN</td>\n",
       "      <td>1430.000000</td>\n",
       "    </tr>\n",
       "    <tr>\n",
       "      <th>43</th>\n",
       "      <td>1034.230769</td>\n",
       "      <td>6350.000</td>\n",
       "      <td>NaN</td>\n",
       "      <td>1430.000000</td>\n",
       "    </tr>\n",
       "    <tr>\n",
       "      <th>44</th>\n",
       "      <td>1163.445378</td>\n",
       "      <td>5180.000</td>\n",
       "      <td>NaN</td>\n",
       "      <td>1430.000000</td>\n",
       "    </tr>\n",
       "    <tr>\n",
       "      <th>45</th>\n",
       "      <td>1093.043478</td>\n",
       "      <td>NaN</td>\n",
       "      <td>4276.666667</td>\n",
       "      <td>NaN</td>\n",
       "    </tr>\n",
       "  </tbody>\n",
       "</table>\n",
       "</div>"
      ],
      "text/plain": [
       "type       faction      main         side         town\n",
       "level                                                 \n",
       "26      690.000000  3080.000  1280.000000   786.666667\n",
       "27      807.272727       NaN  1330.000000   872.500000\n",
       "28      702.222222       NaN  1380.000000   686.666667\n",
       "29      775.384615       NaN          NaN   740.000000\n",
       "30      780.555556  3650.000  1476.666667          NaN\n",
       "31      813.333333       NaN          NaN  1283.333333\n",
       "32      932.333333  1545.125          NaN  1334.000000\n",
       "33      966.574074       NaN          NaN  1270.000000\n",
       "34      736.153846       NaN  2070.000000  1430.000000\n",
       "35      890.000000  4230.000  3278.000000  1270.000000\n",
       "36      910.000000  5440.000          NaN  1430.000000\n",
       "37     1411.941748       NaN          NaN  1270.000000\n",
       "38     1270.000000       NaN  1370.000000  1430.000000\n",
       "39      899.166667       NaN          NaN  1398.000000\n",
       "40     1028.225806  8625.000  2220.000000  1430.000000\n",
       "41     1020.000000       NaN          NaN          NaN\n",
       "42     1158.888889  4980.000          NaN  1430.000000\n",
       "43     1034.230769  6350.000          NaN  1430.000000\n",
       "44     1163.445378  5180.000          NaN  1430.000000\n",
       "45     1093.043478       NaN  4276.666667          NaN"
      ]
     },
     "execution_count": 40,
     "metadata": {},
     "output_type": "execute_result"
    }
   ],
   "source": [
    "med_all = med_lvl.groupby(['type', 'level'])['xp'].agg('mean').reset_index()\n",
    "med_all = pd.pivot_table(med_all, values = 'xp', index = 'level', columns = 'type')\n",
    "med_all"
   ]
  },
  {
   "cell_type": "code",
   "execution_count": 41,
   "id": "114fd4f6",
   "metadata": {},
   "outputs": [
    {
     "data": {
      "text/plain": [
       "<AxesSubplot:title={'center':'Avg xp for each level (med)'}, xlabel='level', ylabel='xp'>"
      ]
     },
     "execution_count": 41,
     "metadata": {},
     "output_type": "execute_result"
    },
    {
     "data": {
      "image/png": "[encoded data removed]",
      "text/plain": [
       "<Figure size 1152x720 with 1 Axes>"
      ]
     },
     "metadata": {
      "needs_background": "light"
     },
     "output_type": "display_data"
    }
   ],
   "source": [
    "med_all.plot(kind='bar', figsize = (16,10), xlabel = 'level', ylabel = 'xp', width = .75, title = 'Avg xp for each level (med)')"
   ]
  },
  {
   "cell_type": "code",
   "execution_count": 53,
   "id": "e301089a",
   "metadata": {},
   "outputs": [
    {
     "data": {
      "text/plain": [
       "1073.6"
      ]
     },
     "execution_count": 53,
     "metadata": {},
     "output_type": "execute_result"
    }
   ],
   "source": [
    "round(med_lvl['xp'].mean(), 1)"
   ]
  },
  {
   "cell_type": "code",
   "execution_count": 54,
   "id": "d88cdc6d",
   "metadata": {},
   "outputs": [
    {
     "data": {
      "text/html": [
       "<div>\n",
       "<style scoped>\n",
       "    .dataframe tbody tr th:only-of-type {\n",
       "        vertical-align: middle;\n",
       "    }\n",
       "\n",
       "    .dataframe tbody tr th {\n",
       "        vertical-align: top;\n",
       "    }\n",
       "\n",
       "    .dataframe thead th {\n",
       "        text-align: right;\n",
       "    }\n",
       "</style>\n",
       "<table border=\"1\" class=\"dataframe\">\n",
       "  <thead>\n",
       "    <tr style=\"text-align: right;\">\n",
       "      <th></th>\n",
       "      <th>quest_name</th>\n",
       "      <th>level</th>\n",
       "      <th>xp</th>\n",
       "      <th>type</th>\n",
       "    </tr>\n",
       "  </thead>\n",
       "  <tbody>\n",
       "    <tr>\n",
       "      <th>0</th>\n",
       "      <td>Raid: Syleio Seko</td>\n",
       "      <td>60</td>\n",
       "      <td>1600</td>\n",
       "      <td>faction</td>\n",
       "    </tr>\n",
       "    <tr>\n",
       "      <th>1</th>\n",
       "      <td>Raid: Hingatirn</td>\n",
       "      <td>60</td>\n",
       "      <td>1600</td>\n",
       "      <td>faction</td>\n",
       "    </tr>\n",
       "    <tr>\n",
       "      <th>2</th>\n",
       "      <td>Raid: Forecastle Drift (Elite)</td>\n",
       "      <td>60</td>\n",
       "      <td>2480</td>\n",
       "      <td>faction</td>\n",
       "    </tr>\n",
       "    <tr>\n",
       "      <th>3</th>\n",
       "      <td>Raid: Eternal Pool (Elite)</td>\n",
       "      <td>60</td>\n",
       "      <td>2480</td>\n",
       "      <td>faction</td>\n",
       "    </tr>\n",
       "    <tr>\n",
       "      <th>4</th>\n",
       "      <td>Raid: Spire of Melpomene (Elite)</td>\n",
       "      <td>60</td>\n",
       "      <td>2550</td>\n",
       "      <td>faction</td>\n",
       "    </tr>\n",
       "    <tr>\n",
       "      <th>...</th>\n",
       "      <td>...</td>\n",
       "      <td>...</td>\n",
       "      <td>...</td>\n",
       "      <td>...</td>\n",
       "    </tr>\n",
       "    <tr>\n",
       "      <th>6182</th>\n",
       "      <td>Paying Respects</td>\n",
       "      <td>46</td>\n",
       "      <td>2150</td>\n",
       "      <td>side</td>\n",
       "    </tr>\n",
       "    <tr>\n",
       "      <th>6183</th>\n",
       "      <td>Archdeacon Azamela (Expedition)</td>\n",
       "      <td>46</td>\n",
       "      <td>12500</td>\n",
       "      <td>side</td>\n",
       "    </tr>\n",
       "    <tr>\n",
       "      <th>6536</th>\n",
       "      <td>Explorers Needed</td>\n",
       "      <td>57</td>\n",
       "      <td>1430</td>\n",
       "      <td>town</td>\n",
       "    </tr>\n",
       "    <tr>\n",
       "      <th>6537</th>\n",
       "      <td>Explorers Needed</td>\n",
       "      <td>57</td>\n",
       "      <td>1430</td>\n",
       "      <td>town</td>\n",
       "    </tr>\n",
       "    <tr>\n",
       "      <th>6538</th>\n",
       "      <td>Explorers Needed</td>\n",
       "      <td>50</td>\n",
       "      <td>1270</td>\n",
       "      <td>town</td>\n",
       "    </tr>\n",
       "  </tbody>\n",
       "</table>\n",
       "<p>1394 rows × 4 columns</p>\n",
       "</div>"
      ],
      "text/plain": [
       "                            quest_name  level     xp     type\n",
       "0                    Raid: Syleio Seko     60   1600  faction\n",
       "1                      Raid: Hingatirn     60   1600  faction\n",
       "2       Raid: Forecastle Drift (Elite)     60   2480  faction\n",
       "3           Raid: Eternal Pool (Elite)     60   2480  faction\n",
       "4     Raid: Spire of Melpomene (Elite)     60   2550  faction\n",
       "...                                ...    ...    ...      ...\n",
       "6182                   Paying Respects     46   2150     side\n",
       "6183   Archdeacon Azamela (Expedition)     46  12500     side\n",
       "6536                  Explorers Needed     57   1430     town\n",
       "6537                  Explorers Needed     57   1430     town\n",
       "6538                  Explorers Needed     50   1270     town\n",
       "\n",
       "[1394 rows x 4 columns]"
      ]
     },
     "execution_count": 54,
     "metadata": {},
     "output_type": "execute_result"
    }
   ],
   "source": [
    "high_lvl"
   ]
  },
  {
   "cell_type": "code",
   "execution_count": 73,
   "id": "7cec4f35",
   "metadata": {},
   "outputs": [
    {
     "data": {
      "text/plain": [
       "<AxesSubplot:xlabel='level', ylabel='xp'>"
      ]
     },
     "execution_count": 73,
     "metadata": {},
     "output_type": "execute_result"
    },
    {
     "data": {
      "image/png": "[encoded data removed]",
      "text/plain": [
       "<Figure size 1152x720 with 1 Axes>"
      ]
     },
     "metadata": {
      "needs_background": "light"
     },
     "output_type": "display_data"
    }
   ],
   "source": [
    "high_lvl.plot.scatter(x = 'level', y = 'xp', figsize = (16, 10))"
   ]
  },
  {
   "cell_type": "code",
   "execution_count": 55,
   "id": "97fccc68",
   "metadata": {},
   "outputs": [
    {
     "data": {
      "text/plain": [
       "1949.7"
      ]
     },
     "execution_count": 55,
     "metadata": {},
     "output_type": "execute_result"
    }
   ],
   "source": [
    "round(high_lvl['xp'].mean(), 1)"
   ]
  },
  {
   "cell_type": "code",
   "execution_count": 43,
   "id": "7269cd3f",
   "metadata": {},
   "outputs": [
    {
     "data": {
      "text/html": [
       "<div>\n",
       "<style scoped>\n",
       "    .dataframe tbody tr th:only-of-type {\n",
       "        vertical-align: middle;\n",
       "    }\n",
       "\n",
       "    .dataframe tbody tr th {\n",
       "        vertical-align: top;\n",
       "    }\n",
       "\n",
       "    .dataframe thead th {\n",
       "        text-align: right;\n",
       "    }\n",
       "</style>\n",
       "<table border=\"1\" class=\"dataframe\">\n",
       "  <thead>\n",
       "    <tr style=\"text-align: right;\">\n",
       "      <th>type</th>\n",
       "      <th>faction</th>\n",
       "      <th>main</th>\n",
       "      <th>side</th>\n",
       "      <th>town</th>\n",
       "    </tr>\n",
       "    <tr>\n",
       "      <th>level</th>\n",
       "      <th></th>\n",
       "      <th></th>\n",
       "      <th></th>\n",
       "      <th></th>\n",
       "    </tr>\n",
       "  </thead>\n",
       "  <tbody>\n",
       "    <tr>\n",
       "      <th>46</th>\n",
       "      <td>1120.000000</td>\n",
       "      <td>4040.0</td>\n",
       "      <td>5600.000000</td>\n",
       "      <td>NaN</td>\n",
       "    </tr>\n",
       "    <tr>\n",
       "      <th>47</th>\n",
       "      <td>1140.000000</td>\n",
       "      <td>4110.0</td>\n",
       "      <td>2190.000000</td>\n",
       "      <td>NaN</td>\n",
       "    </tr>\n",
       "    <tr>\n",
       "      <th>48</th>\n",
       "      <td>1272.258065</td>\n",
       "      <td>4190.0</td>\n",
       "      <td>NaN</td>\n",
       "      <td>NaN</td>\n",
       "    </tr>\n",
       "    <tr>\n",
       "      <th>49</th>\n",
       "      <td>1090.952381</td>\n",
       "      <td>NaN</td>\n",
       "      <td>2890.000000</td>\n",
       "      <td>NaN</td>\n",
       "    </tr>\n",
       "    <tr>\n",
       "      <th>50</th>\n",
       "      <td>1211.052632</td>\n",
       "      <td>5780.0</td>\n",
       "      <td>2315.000000</td>\n",
       "      <td>1270.0</td>\n",
       "    </tr>\n",
       "    <tr>\n",
       "      <th>51</th>\n",
       "      <td>1327.500000</td>\n",
       "      <td>5880.0</td>\n",
       "      <td>2350.000000</td>\n",
       "      <td>NaN</td>\n",
       "    </tr>\n",
       "    <tr>\n",
       "      <th>52</th>\n",
       "      <td>1334.074074</td>\n",
       "      <td>5880.0</td>\n",
       "      <td>2350.000000</td>\n",
       "      <td>NaN</td>\n",
       "    </tr>\n",
       "    <tr>\n",
       "      <th>53</th>\n",
       "      <td>1190.000000</td>\n",
       "      <td>5900.0</td>\n",
       "      <td>NaN</td>\n",
       "      <td>NaN</td>\n",
       "    </tr>\n",
       "    <tr>\n",
       "      <th>54</th>\n",
       "      <td>1560.000000</td>\n",
       "      <td>5905.0</td>\n",
       "      <td>1770.000000</td>\n",
       "      <td>NaN</td>\n",
       "    </tr>\n",
       "    <tr>\n",
       "      <th>55</th>\n",
       "      <td>1291.666667</td>\n",
       "      <td>7410.0</td>\n",
       "      <td>2970.000000</td>\n",
       "      <td>NaN</td>\n",
       "    </tr>\n",
       "    <tr>\n",
       "      <th>56</th>\n",
       "      <td>1372.558140</td>\n",
       "      <td>5980.0</td>\n",
       "      <td>NaN</td>\n",
       "      <td>NaN</td>\n",
       "    </tr>\n",
       "    <tr>\n",
       "      <th>57</th>\n",
       "      <td>1735.151515</td>\n",
       "      <td>NaN</td>\n",
       "      <td>1860.000000</td>\n",
       "      <td>1430.0</td>\n",
       "    </tr>\n",
       "    <tr>\n",
       "      <th>58</th>\n",
       "      <td>1678.474576</td>\n",
       "      <td>NaN</td>\n",
       "      <td>NaN</td>\n",
       "      <td>NaN</td>\n",
       "    </tr>\n",
       "    <tr>\n",
       "      <th>59</th>\n",
       "      <td>1989.090909</td>\n",
       "      <td>NaN</td>\n",
       "      <td>NaN</td>\n",
       "      <td>NaN</td>\n",
       "    </tr>\n",
       "    <tr>\n",
       "      <th>60</th>\n",
       "      <td>2101.489362</td>\n",
       "      <td>7502.5</td>\n",
       "      <td>4642.834646</td>\n",
       "      <td>NaN</td>\n",
       "    </tr>\n",
       "  </tbody>\n",
       "</table>\n",
       "</div>"
      ],
      "text/plain": [
       "type       faction    main         side    town\n",
       "level                                          \n",
       "46     1120.000000  4040.0  5600.000000     NaN\n",
       "47     1140.000000  4110.0  2190.000000     NaN\n",
       "48     1272.258065  4190.0          NaN     NaN\n",
       "49     1090.952381     NaN  2890.000000     NaN\n",
       "50     1211.052632  5780.0  2315.000000  1270.0\n",
       "51     1327.500000  5880.0  2350.000000     NaN\n",
       "52     1334.074074  5880.0  2350.000000     NaN\n",
       "53     1190.000000  5900.0          NaN     NaN\n",
       "54     1560.000000  5905.0  1770.000000     NaN\n",
       "55     1291.666667  7410.0  2970.000000     NaN\n",
       "56     1372.558140  5980.0          NaN     NaN\n",
       "57     1735.151515     NaN  1860.000000  1430.0\n",
       "58     1678.474576     NaN          NaN     NaN\n",
       "59     1989.090909     NaN          NaN     NaN\n",
       "60     2101.489362  7502.5  4642.834646     NaN"
      ]
     },
     "execution_count": 43,
     "metadata": {},
     "output_type": "execute_result"
    }
   ],
   "source": [
    "high_all = high_lvl.groupby(['type', 'level'])['xp'].agg('mean').reset_index()\n",
    "high_all = pd.pivot_table(high_all, values = 'xp', index = 'level', columns = 'type')\n",
    "high_all"
   ]
  },
  {
   "cell_type": "code",
   "execution_count": 44,
   "id": "a2c367a7",
   "metadata": {},
   "outputs": [
    {
     "data": {
      "text/plain": [
       "<AxesSubplot:title={'center':'Avg xp for each level (high)'}, xlabel='level', ylabel='xp'>"
      ]
     },
     "execution_count": 44,
     "metadata": {},
     "output_type": "execute_result"
    },
    {
     "data": {
      "image/png": "[encoded data removed]",
      "text/plain": [
       "<Figure size 1152x720 with 1 Axes>"
      ]
     },
     "metadata": {
      "needs_background": "light"
     },
     "output_type": "display_data"
    }
   ],
   "source": [
    "high_all.plot(kind='bar', figsize = (16,10), xlabel = 'level', ylabel = 'xp', width = .75, title = 'Avg xp for each level (high)')"
   ]
  },
  {
   "cell_type": "code",
   "execution_count": 45,
   "id": "5a174eb7",
   "metadata": {},
   "outputs": [
    {
     "name": "stderr",
     "output_type": "stream",
     "text": [
      "<ipython-input-45-09997963f2b4>:4: UserWarning: Boolean Series key will be reindexed to match DataFrame index.\n",
      "  t1 = x[x['level'] <= 46][x['level'] <= 50]\n",
      "<ipython-input-45-09997963f2b4>:8: UserWarning: Boolean Series key will be reindexed to match DataFrame index.\n",
      "  t2 = x[x['level'] >= 51][x['level'] <= 55]\n",
      "<ipython-input-45-09997963f2b4>:12: UserWarning: Boolean Series key will be reindexed to match DataFrame index.\n",
      "  t3 = x[x['level'] >= 56][x['level'] <= 60]\n"
     ]
    },
    {
     "data": {
      "text/html": [
       "<div>\n",
       "<style scoped>\n",
       "    .dataframe tbody tr th:only-of-type {\n",
       "        vertical-align: middle;\n",
       "    }\n",
       "\n",
       "    .dataframe tbody tr th {\n",
       "        vertical-align: top;\n",
       "    }\n",
       "\n",
       "    .dataframe thead th {\n",
       "        text-align: right;\n",
       "    }\n",
       "</style>\n",
       "<table border=\"1\" class=\"dataframe\">\n",
       "  <thead>\n",
       "    <tr style=\"text-align: right;\">\n",
       "      <th></th>\n",
       "      <th>type</th>\n",
       "      <th>xp</th>\n",
       "      <th>range</th>\n",
       "    </tr>\n",
       "  </thead>\n",
       "  <tbody>\n",
       "    <tr>\n",
       "      <th>0</th>\n",
       "      <td>faction</td>\n",
       "      <td>1120.000000</td>\n",
       "      <td>46-50</td>\n",
       "    </tr>\n",
       "    <tr>\n",
       "      <th>1</th>\n",
       "      <td>main</td>\n",
       "      <td>4040.000000</td>\n",
       "      <td>46-50</td>\n",
       "    </tr>\n",
       "    <tr>\n",
       "      <th>2</th>\n",
       "      <td>side</td>\n",
       "      <td>5600.000000</td>\n",
       "      <td>46-50</td>\n",
       "    </tr>\n",
       "    <tr>\n",
       "      <th>0</th>\n",
       "      <td>faction</td>\n",
       "      <td>1334.423077</td>\n",
       "      <td>51-55</td>\n",
       "    </tr>\n",
       "    <tr>\n",
       "      <th>1</th>\n",
       "      <td>main</td>\n",
       "      <td>6146.666667</td>\n",
       "      <td>51-55</td>\n",
       "    </tr>\n",
       "    <tr>\n",
       "      <th>2</th>\n",
       "      <td>side</td>\n",
       "      <td>2621.428571</td>\n",
       "      <td>51-55</td>\n",
       "    </tr>\n",
       "    <tr>\n",
       "      <th>0</th>\n",
       "      <td>faction</td>\n",
       "      <td>1819.163347</td>\n",
       "      <td>56-60</td>\n",
       "    </tr>\n",
       "    <tr>\n",
       "      <th>1</th>\n",
       "      <td>main</td>\n",
       "      <td>6741.250000</td>\n",
       "      <td>56-60</td>\n",
       "    </tr>\n",
       "    <tr>\n",
       "      <th>2</th>\n",
       "      <td>side</td>\n",
       "      <td>4621.093750</td>\n",
       "      <td>56-60</td>\n",
       "    </tr>\n",
       "    <tr>\n",
       "      <th>3</th>\n",
       "      <td>town</td>\n",
       "      <td>1430.000000</td>\n",
       "      <td>56-60</td>\n",
       "    </tr>\n",
       "  </tbody>\n",
       "</table>\n",
       "</div>"
      ],
      "text/plain": [
       "      type           xp  range\n",
       "0  faction  1120.000000  46-50\n",
       "1     main  4040.000000  46-50\n",
       "2     side  5600.000000  46-50\n",
       "0  faction  1334.423077  51-55\n",
       "1     main  6146.666667  51-55\n",
       "2     side  2621.428571  51-55\n",
       "0  faction  1819.163347  56-60\n",
       "1     main  6741.250000  56-60\n",
       "2     side  4621.093750  56-60\n",
       "3     town  1430.000000  56-60"
      ]
     },
     "execution_count": 45,
     "metadata": {},
     "output_type": "execute_result"
    }
   ],
   "source": [
    "x = high_lvl\n",
    "\n",
    "# grouping levels\n",
    "t1 = x[x['level'] <= 46][x['level'] <= 50]\n",
    "t1 = t1.groupby(['type'])['xp'].agg('mean').reset_index()\n",
    "t1['range'] = '46-50'\n",
    "\n",
    "t2 = x[x['level'] >= 51][x['level'] <= 55]\n",
    "t2 = t2.groupby(['type'])['xp'].agg('mean').reset_index()\n",
    "t2['range'] = '51-55'\n",
    "\n",
    "t3 = x[x['level'] >= 56][x['level'] <= 60]\n",
    "t3 = t3.groupby(['type'])['xp'].agg('mean').reset_index()\n",
    "t3['range'] = '56-60'\n",
    "\n",
    "# new table for low level\n",
    "high_plot = pd.concat([t1, t2, t3])\n",
    "high_plot.reset_index(drop = True)\n",
    "high_plot"
   ]
  },
  {
   "cell_type": "code",
   "execution_count": 46,
   "id": "7d440646",
   "metadata": {},
   "outputs": [
    {
     "data": {
      "text/plain": [
       "<AxesSubplot:title={'center':'Avg xp for high levels'}, xlabel='level', ylabel='avg xp'>"
      ]
     },
     "execution_count": 46,
     "metadata": {},
     "output_type": "execute_result"
    },
    {
     "data": {
      "image/png": "[encoded data removed]",
      "text/plain": [
       "<Figure size 1152x648 with 1 Axes>"
      ]
     },
     "metadata": {
      "needs_background": "light"
     },
     "output_type": "display_data"
    }
   ],
   "source": [
    "table = pd.pivot_table(high_plot, values = 'xp', index = 'range', columns = 'type')\n",
    "table.plot(kind = 'bar', figsize = (16, 9), xlabel = 'level', ylabel = 'avg xp', title = 'Avg xp for high levels')"
   ]
  },
  {
   "cell_type": "code",
   "execution_count": 48,
   "id": "4b3fe374",
   "metadata": {},
   "outputs": [
    {
     "data": {
      "text/html": [
       "<div>\n",
       "<style scoped>\n",
       "    .dataframe tbody tr th:only-of-type {\n",
       "        vertical-align: middle;\n",
       "    }\n",
       "\n",
       "    .dataframe tbody tr th {\n",
       "        vertical-align: top;\n",
       "    }\n",
       "\n",
       "    .dataframe thead th {\n",
       "        text-align: right;\n",
       "    }\n",
       "</style>\n",
       "<table border=\"1\" class=\"dataframe\">\n",
       "  <thead>\n",
       "    <tr style=\"text-align: right;\">\n",
       "      <th>type</th>\n",
       "      <th>faction</th>\n",
       "      <th>main</th>\n",
       "      <th>side</th>\n",
       "      <th>town</th>\n",
       "    </tr>\n",
       "  </thead>\n",
       "  <tbody>\n",
       "    <tr>\n",
       "      <th>xp</th>\n",
       "      <td>1592.598039</td>\n",
       "      <td>6051.666667</td>\n",
       "      <td>4398.926174</td>\n",
       "      <td>1376.666667</td>\n",
       "    </tr>\n",
       "  </tbody>\n",
       "</table>\n",
       "</div>"
      ],
      "text/plain": [
       "type      faction         main         side         town\n",
       "xp    1592.598039  6051.666667  4398.926174  1376.666667"
      ]
     },
     "execution_count": 48,
     "metadata": {},
     "output_type": "execute_result"
    }
   ],
   "source": [
    "high = pd.pivot_table(high_lvl, values = 'xp', columns = 'type')\n",
    "high"
   ]
  },
  {
   "cell_type": "code",
   "execution_count": 51,
   "id": "f418609d",
   "metadata": {},
   "outputs": [
    {
     "data": {
      "text/plain": [
       "<AxesSubplot:title={'center':'Avg xp for levels 46-60'}, xlabel='quest type', ylabel='avg xp'>"
      ]
     },
     "execution_count": 51,
     "metadata": {},
     "output_type": "execute_result"
    },
    {
     "data": {
      "image/png": "[encoded data removed]",
      "text/plain": [
       "<Figure size 720x504 with 1 Axes>"
      ]
     },
     "metadata": {
      "needs_background": "light"
     },
     "output_type": "display_data"
    }
   ],
   "source": [
    "high = pd.pivot_table(high_lvl, values = 'xp', columns = 'type')\n",
    "high.plot(kind = 'bar', figsize = (10,7), xlabel = 'quest type', ylabel = 'avg xp', title = 'Avg xp for levels 46-60')"
   ]
  }
 ],
 "metadata": {
  "kernelspec": {
   "display_name": "Python 3",
   "language": "python",
   "name": "python3"
  },
  "language_info": {
   "codemirror_mode": {
    "name": "ipython",
    "version": 3
   },
   "file_extension": ".py",
   "mimetype": "text/x-python",
   "name": "python",
   "nbconvert_exporter": "python",
   "pygments_lexer": "ipython3",
   "version": "3.8.8"
  }
 },
 "nbformat": 4,
 "nbformat_minor": 5
}
